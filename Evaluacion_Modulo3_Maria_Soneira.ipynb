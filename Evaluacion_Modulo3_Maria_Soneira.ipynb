{
 "cells": [
  {
   "cell_type": "code",
   "execution_count": 439,
   "metadata": {},
   "outputs": [],
   "source": [
    "import pandas as pd\n",
    "import numpy as np\n",
    "import matplotlib.pyplot as plt\n",
    "import seaborn as sns"
   ]
  },
  {
   "cell_type": "code",
   "execution_count": 440,
   "metadata": {},
   "outputs": [],
   "source": [
    "# para poder visualizar todas las columnas de los DataFrames\n",
    "pd.set_option('display.max_columns', None) "
   ]
  },
  {
   "cell_type": "code",
   "execution_count": 441,
   "metadata": {},
   "outputs": [],
   "source": [
    "#Abro y creo un dataFrame con la información de los vuelos\n",
    "df_Customer_Flight_Activity = pd.read_csv('./files/Customer_Flight_Activity.csv')"
   ]
  },
  {
   "cell_type": "code",
   "execution_count": 442,
   "metadata": {},
   "outputs": [],
   "source": [
    "#Abro y creo un dataFrame con la información de los clientes\n",
    "df_Customer_Loyalty_History = pd.read_csv('./files/Customer_Loyalty_History.csv')"
   ]
  },
  {
   "cell_type": "markdown",
   "metadata": {},
   "source": [
    "---------------------------------------------------"
   ]
  },
  {
   "cell_type": "markdown",
   "metadata": {},
   "source": [
    "**Fase 1: Exploración y Limpieza**"
   ]
  },
  {
   "cell_type": "markdown",
   "metadata": {},
   "source": [
    "**1.Exploración Inicial**"
   ]
  },
  {
   "cell_type": "code",
   "execution_count": 443,
   "metadata": {},
   "outputs": [
    {
     "data": {
      "text/html": [
       "<div>\n",
       "<style scoped>\n",
       "    .dataframe tbody tr th:only-of-type {\n",
       "        vertical-align: middle;\n",
       "    }\n",
       "\n",
       "    .dataframe tbody tr th {\n",
       "        vertical-align: top;\n",
       "    }\n",
       "\n",
       "    .dataframe thead th {\n",
       "        text-align: right;\n",
       "    }\n",
       "</style>\n",
       "<table border=\"1\" class=\"dataframe\">\n",
       "  <thead>\n",
       "    <tr style=\"text-align: right;\">\n",
       "      <th></th>\n",
       "      <th>Loyalty Number</th>\n",
       "      <th>Year</th>\n",
       "      <th>Month</th>\n",
       "      <th>Flights Booked</th>\n",
       "      <th>Flights with Companions</th>\n",
       "      <th>Total Flights</th>\n",
       "      <th>Distance</th>\n",
       "      <th>Points Accumulated</th>\n",
       "      <th>Points Redeemed</th>\n",
       "      <th>Dollar Cost Points Redeemed</th>\n",
       "    </tr>\n",
       "  </thead>\n",
       "  <tbody>\n",
       "    <tr>\n",
       "      <th>0</th>\n",
       "      <td>100018</td>\n",
       "      <td>2017</td>\n",
       "      <td>1</td>\n",
       "      <td>3</td>\n",
       "      <td>0</td>\n",
       "      <td>3</td>\n",
       "      <td>1521</td>\n",
       "      <td>152.0</td>\n",
       "      <td>0</td>\n",
       "      <td>0</td>\n",
       "    </tr>\n",
       "    <tr>\n",
       "      <th>1</th>\n",
       "      <td>100102</td>\n",
       "      <td>2017</td>\n",
       "      <td>1</td>\n",
       "      <td>10</td>\n",
       "      <td>4</td>\n",
       "      <td>14</td>\n",
       "      <td>2030</td>\n",
       "      <td>203.0</td>\n",
       "      <td>0</td>\n",
       "      <td>0</td>\n",
       "    </tr>\n",
       "    <tr>\n",
       "      <th>2</th>\n",
       "      <td>100140</td>\n",
       "      <td>2017</td>\n",
       "      <td>1</td>\n",
       "      <td>6</td>\n",
       "      <td>0</td>\n",
       "      <td>6</td>\n",
       "      <td>1200</td>\n",
       "      <td>120.0</td>\n",
       "      <td>0</td>\n",
       "      <td>0</td>\n",
       "    </tr>\n",
       "    <tr>\n",
       "      <th>3</th>\n",
       "      <td>100214</td>\n",
       "      <td>2017</td>\n",
       "      <td>1</td>\n",
       "      <td>0</td>\n",
       "      <td>0</td>\n",
       "      <td>0</td>\n",
       "      <td>0</td>\n",
       "      <td>0.0</td>\n",
       "      <td>0</td>\n",
       "      <td>0</td>\n",
       "    </tr>\n",
       "    <tr>\n",
       "      <th>4</th>\n",
       "      <td>100272</td>\n",
       "      <td>2017</td>\n",
       "      <td>1</td>\n",
       "      <td>0</td>\n",
       "      <td>0</td>\n",
       "      <td>0</td>\n",
       "      <td>0</td>\n",
       "      <td>0.0</td>\n",
       "      <td>0</td>\n",
       "      <td>0</td>\n",
       "    </tr>\n",
       "  </tbody>\n",
       "</table>\n",
       "</div>"
      ],
      "text/plain": [
       "   Loyalty Number  Year  Month  Flights Booked  Flights with Companions  \\\n",
       "0          100018  2017      1               3                        0   \n",
       "1          100102  2017      1              10                        4   \n",
       "2          100140  2017      1               6                        0   \n",
       "3          100214  2017      1               0                        0   \n",
       "4          100272  2017      1               0                        0   \n",
       "\n",
       "   Total Flights  Distance  Points Accumulated  Points Redeemed  \\\n",
       "0              3      1521               152.0                0   \n",
       "1             14      2030               203.0                0   \n",
       "2              6      1200               120.0                0   \n",
       "3              0         0                 0.0                0   \n",
       "4              0         0                 0.0                0   \n",
       "\n",
       "   Dollar Cost Points Redeemed  \n",
       "0                            0  \n",
       "1                            0  \n",
       "2                            0  \n",
       "3                            0  \n",
       "4                            0  "
      ]
     },
     "execution_count": 443,
     "metadata": {},
     "output_type": "execute_result"
    }
   ],
   "source": [
    "df_Customer_Flight_Activity.head()"
   ]
  },
  {
   "cell_type": "code",
   "execution_count": 444,
   "metadata": {},
   "outputs": [
    {
     "name": "stdout",
     "output_type": "stream",
     "text": [
      "<class 'pandas.core.frame.DataFrame'>\n",
      "RangeIndex: 405624 entries, 0 to 405623\n",
      "Data columns (total 10 columns):\n",
      " #   Column                       Non-Null Count   Dtype  \n",
      "---  ------                       --------------   -----  \n",
      " 0   Loyalty Number               405624 non-null  int64  \n",
      " 1   Year                         405624 non-null  int64  \n",
      " 2   Month                        405624 non-null  int64  \n",
      " 3   Flights Booked               405624 non-null  int64  \n",
      " 4   Flights with Companions      405624 non-null  int64  \n",
      " 5   Total Flights                405624 non-null  int64  \n",
      " 6   Distance                     405624 non-null  int64  \n",
      " 7   Points Accumulated           405624 non-null  float64\n",
      " 8   Points Redeemed              405624 non-null  int64  \n",
      " 9   Dollar Cost Points Redeemed  405624 non-null  int64  \n",
      "dtypes: float64(1), int64(9)\n",
      "memory usage: 30.9 MB\n"
     ]
    }
   ],
   "source": [
    "df_Customer_Flight_Activity.info()"
   ]
  },
  {
   "cell_type": "code",
   "execution_count": 445,
   "metadata": {},
   "outputs": [
    {
     "data": {
      "text/plain": [
       "Loyalty Number                 0\n",
       "Year                           0\n",
       "Month                          0\n",
       "Flights Booked                 0\n",
       "Flights with Companions        0\n",
       "Total Flights                  0\n",
       "Distance                       0\n",
       "Points Accumulated             0\n",
       "Points Redeemed                0\n",
       "Dollar Cost Points Redeemed    0\n",
       "dtype: int64"
      ]
     },
     "execution_count": 445,
     "metadata": {},
     "output_type": "execute_result"
    }
   ],
   "source": [
    "nulos = df_Customer_Flight_Activity.isnull().sum()\n",
    "nulos"
   ]
  },
  {
   "cell_type": "markdown",
   "metadata": {},
   "source": [
    "'df_Customer_Flight_Activity' = este data frame no tiene nulos"
   ]
  },
  {
   "cell_type": "code",
   "execution_count": 446,
   "metadata": {},
   "outputs": [
    {
     "data": {
      "text/plain": [
       "Loyalty Number                   int64\n",
       "Year                             int64\n",
       "Month                            int64\n",
       "Flights Booked                   int64\n",
       "Flights with Companions          int64\n",
       "Total Flights                    int64\n",
       "Distance                         int64\n",
       "Points Accumulated             float64\n",
       "Points Redeemed                  int64\n",
       "Dollar Cost Points Redeemed      int64\n",
       "dtype: object"
      ]
     },
     "execution_count": 446,
     "metadata": {},
     "output_type": "execute_result"
    }
   ],
   "source": [
    "df_Customer_Flight_Activity.dtypes"
   ]
  },
  {
   "cell_type": "code",
   "execution_count": 447,
   "metadata": {},
   "outputs": [
    {
     "data": {
      "text/plain": [
       "array([152.  , 203.  , 120.  , ...,  18.75, 601.  , 626.  ])"
      ]
     },
     "execution_count": 447,
     "metadata": {},
     "output_type": "execute_result"
    }
   ],
   "source": [
    "df_Customer_Flight_Activity['Points Accumulated'].unique()"
   ]
  },
  {
   "cell_type": "markdown",
   "metadata": {},
   "source": [
    "**Sigo con el otro Data Frame**"
   ]
  },
  {
   "cell_type": "code",
   "execution_count": 448,
   "metadata": {},
   "outputs": [
    {
     "data": {
      "text/html": [
       "<div>\n",
       "<style scoped>\n",
       "    .dataframe tbody tr th:only-of-type {\n",
       "        vertical-align: middle;\n",
       "    }\n",
       "\n",
       "    .dataframe tbody tr th {\n",
       "        vertical-align: top;\n",
       "    }\n",
       "\n",
       "    .dataframe thead th {\n",
       "        text-align: right;\n",
       "    }\n",
       "</style>\n",
       "<table border=\"1\" class=\"dataframe\">\n",
       "  <thead>\n",
       "    <tr style=\"text-align: right;\">\n",
       "      <th></th>\n",
       "      <th>Loyalty Number</th>\n",
       "      <th>Country</th>\n",
       "      <th>Province</th>\n",
       "      <th>City</th>\n",
       "      <th>Postal Code</th>\n",
       "      <th>Gender</th>\n",
       "      <th>Education</th>\n",
       "      <th>Salary</th>\n",
       "      <th>Marital Status</th>\n",
       "      <th>Loyalty Card</th>\n",
       "      <th>CLV</th>\n",
       "      <th>Enrollment Type</th>\n",
       "      <th>Enrollment Year</th>\n",
       "      <th>Enrollment Month</th>\n",
       "      <th>Cancellation Year</th>\n",
       "      <th>Cancellation Month</th>\n",
       "    </tr>\n",
       "  </thead>\n",
       "  <tbody>\n",
       "    <tr>\n",
       "      <th>9777</th>\n",
       "      <td>440595</td>\n",
       "      <td>Canada</td>\n",
       "      <td>British Columbia</td>\n",
       "      <td>Vancouver</td>\n",
       "      <td>V6E 3Z3</td>\n",
       "      <td>Female</td>\n",
       "      <td>Bachelor</td>\n",
       "      <td>71130.0</td>\n",
       "      <td>Married</td>\n",
       "      <td>Nova</td>\n",
       "      <td>37243.63</td>\n",
       "      <td>Standard</td>\n",
       "      <td>2013</td>\n",
       "      <td>11</td>\n",
       "      <td>NaN</td>\n",
       "      <td>NaN</td>\n",
       "    </tr>\n",
       "    <tr>\n",
       "      <th>7229</th>\n",
       "      <td>839579</td>\n",
       "      <td>Canada</td>\n",
       "      <td>Ontario</td>\n",
       "      <td>Ottawa</td>\n",
       "      <td>K1G 4Z0</td>\n",
       "      <td>Male</td>\n",
       "      <td>Bachelor</td>\n",
       "      <td>66742.0</td>\n",
       "      <td>Divorced</td>\n",
       "      <td>Nova</td>\n",
       "      <td>6411.68</td>\n",
       "      <td>Standard</td>\n",
       "      <td>2017</td>\n",
       "      <td>10</td>\n",
       "      <td>NaN</td>\n",
       "      <td>NaN</td>\n",
       "    </tr>\n",
       "    <tr>\n",
       "      <th>10522</th>\n",
       "      <td>684103</td>\n",
       "      <td>Canada</td>\n",
       "      <td>Quebec</td>\n",
       "      <td>Tremblant</td>\n",
       "      <td>H5Y 2S9</td>\n",
       "      <td>Male</td>\n",
       "      <td>College</td>\n",
       "      <td>NaN</td>\n",
       "      <td>Single</td>\n",
       "      <td>Star</td>\n",
       "      <td>2448.86</td>\n",
       "      <td>Standard</td>\n",
       "      <td>2016</td>\n",
       "      <td>7</td>\n",
       "      <td>2017.0</td>\n",
       "      <td>3.0</td>\n",
       "    </tr>\n",
       "    <tr>\n",
       "      <th>11533</th>\n",
       "      <td>644163</td>\n",
       "      <td>Canada</td>\n",
       "      <td>Ontario</td>\n",
       "      <td>Toronto</td>\n",
       "      <td>M2M 7K8</td>\n",
       "      <td>Female</td>\n",
       "      <td>Bachelor</td>\n",
       "      <td>52928.0</td>\n",
       "      <td>Married</td>\n",
       "      <td>Star</td>\n",
       "      <td>2673.32</td>\n",
       "      <td>Standard</td>\n",
       "      <td>2015</td>\n",
       "      <td>4</td>\n",
       "      <td>NaN</td>\n",
       "      <td>NaN</td>\n",
       "    </tr>\n",
       "    <tr>\n",
       "      <th>14460</th>\n",
       "      <td>924878</td>\n",
       "      <td>Canada</td>\n",
       "      <td>Quebec</td>\n",
       "      <td>Montreal</td>\n",
       "      <td>H2Y 2W2</td>\n",
       "      <td>Male</td>\n",
       "      <td>Bachelor</td>\n",
       "      <td>58318.0</td>\n",
       "      <td>Married</td>\n",
       "      <td>Nova</td>\n",
       "      <td>7834.15</td>\n",
       "      <td>2018 Promotion</td>\n",
       "      <td>2018</td>\n",
       "      <td>3</td>\n",
       "      <td>NaN</td>\n",
       "      <td>NaN</td>\n",
       "    </tr>\n",
       "  </tbody>\n",
       "</table>\n",
       "</div>"
      ],
      "text/plain": [
       "       Loyalty Number Country          Province       City Postal Code  \\\n",
       "9777           440595  Canada  British Columbia  Vancouver     V6E 3Z3   \n",
       "7229           839579  Canada           Ontario     Ottawa     K1G 4Z0   \n",
       "10522          684103  Canada            Quebec  Tremblant     H5Y 2S9   \n",
       "11533          644163  Canada           Ontario    Toronto     M2M 7K8   \n",
       "14460          924878  Canada            Quebec   Montreal     H2Y 2W2   \n",
       "\n",
       "       Gender Education   Salary Marital Status Loyalty Card       CLV  \\\n",
       "9777   Female  Bachelor  71130.0        Married         Nova  37243.63   \n",
       "7229     Male  Bachelor  66742.0       Divorced         Nova   6411.68   \n",
       "10522    Male   College      NaN         Single         Star   2448.86   \n",
       "11533  Female  Bachelor  52928.0        Married         Star   2673.32   \n",
       "14460    Male  Bachelor  58318.0        Married         Nova   7834.15   \n",
       "\n",
       "      Enrollment Type  Enrollment Year  Enrollment Month  Cancellation Year  \\\n",
       "9777         Standard             2013                11                NaN   \n",
       "7229         Standard             2017                10                NaN   \n",
       "10522        Standard             2016                 7             2017.0   \n",
       "11533        Standard             2015                 4                NaN   \n",
       "14460  2018 Promotion             2018                 3                NaN   \n",
       "\n",
       "       Cancellation Month  \n",
       "9777                  NaN  \n",
       "7229                  NaN  \n",
       "10522                 3.0  \n",
       "11533                 NaN  \n",
       "14460                 NaN  "
      ]
     },
     "execution_count": 448,
     "metadata": {},
     "output_type": "execute_result"
    }
   ],
   "source": [
    "df_Customer_Loyalty_History.sample(5)\n",
    "#me gusta usar el sample para que elija aleatorios"
   ]
  },
  {
   "cell_type": "markdown",
   "metadata": {},
   "source": [
    "tiene letras y numeros"
   ]
  },
  {
   "cell_type": "code",
   "execution_count": 449,
   "metadata": {},
   "outputs": [
    {
     "name": "stdout",
     "output_type": "stream",
     "text": [
      "<class 'pandas.core.frame.DataFrame'>\n",
      "RangeIndex: 16737 entries, 0 to 16736\n",
      "Data columns (total 16 columns):\n",
      " #   Column              Non-Null Count  Dtype  \n",
      "---  ------              --------------  -----  \n",
      " 0   Loyalty Number      16737 non-null  int64  \n",
      " 1   Country             16737 non-null  object \n",
      " 2   Province            16737 non-null  object \n",
      " 3   City                16737 non-null  object \n",
      " 4   Postal Code         16737 non-null  object \n",
      " 5   Gender              16737 non-null  object \n",
      " 6   Education           16737 non-null  object \n",
      " 7   Salary              12499 non-null  float64\n",
      " 8   Marital Status      16737 non-null  object \n",
      " 9   Loyalty Card        16737 non-null  object \n",
      " 10  CLV                 16737 non-null  float64\n",
      " 11  Enrollment Type     16737 non-null  object \n",
      " 12  Enrollment Year     16737 non-null  int64  \n",
      " 13  Enrollment Month    16737 non-null  int64  \n",
      " 14  Cancellation Year   2067 non-null   float64\n",
      " 15  Cancellation Month  2067 non-null   float64\n",
      "dtypes: float64(4), int64(3), object(9)\n",
      "memory usage: 2.0+ MB\n"
     ]
    }
   ],
   "source": [
    "df_Customer_Loyalty_History.info()"
   ]
  },
  {
   "cell_type": "markdown",
   "metadata": {},
   "source": [
    "**Verifico valores unicos para las columnas**"
   ]
  },
  {
   "cell_type": "markdown",
   "metadata": {},
   "source": [
    "-- 16737 entries, veo que tiene esa cantidad de filas \n",
    "-- veo cancelation year y month son float y veo que salary es float tambien\n",
    "\n",
    "-- chequeo si postal code si es que deberia ser solamente numerico\n",
    "-- ver valores unicos en gender, marital status."
   ]
  },
  {
   "cell_type": "code",
   "execution_count": 450,
   "metadata": {},
   "outputs": [
    {
     "data": {
      "text/plain": [
       "array(['Female', 'Male'], dtype=object)"
      ]
     },
     "execution_count": 450,
     "metadata": {},
     "output_type": "execute_result"
    }
   ],
   "source": [
    "df_Customer_Loyalty_History[\"Gender\"].unique()"
   ]
  },
  {
   "cell_type": "code",
   "execution_count": 451,
   "metadata": {},
   "outputs": [
    {
     "data": {
      "text/plain": [
       "array(['Married', 'Divorced', 'Single'], dtype=object)"
      ]
     },
     "execution_count": 451,
     "metadata": {},
     "output_type": "execute_result"
    }
   ],
   "source": [
    "df_Customer_Loyalty_History[\"Marital Status\"].unique()"
   ]
  },
  {
   "cell_type": "code",
   "execution_count": 452,
   "metadata": {},
   "outputs": [
    {
     "data": {
      "text/plain": [
       "array(['M2Z 4K1', 'T3G 6Y6', 'V6E 3D9', 'P1W 1K4', 'J8Y 3Z5', 'Y2K 6R0',\n",
       "       'P5S 6R4', 'K8V 4B2', 'H2Y 2W2', 'M8Y 4K8', 'U5I 4F1', 'G1B 3L5',\n",
       "       'H4G 3T4', 'M2M 7K8', 'M2M 6J7', 'E3B 2H2', 'M1R 4K3', 'T9G 1W3',\n",
       "       'H2Y 4R4', 'V5R 1W3', 'P1L 8X8', 'K1F 2R2', 'H5Y 2S9', 'V1E 4R6',\n",
       "       'H2T 2J6', 'T3E 2V9', 'H2T 9K8', 'K8T 5M5', 'V6T 1Y8', 'P2T 6G3',\n",
       "       'T9O 2W2', 'V6E 3Z3', 'R6Y 4T5', 'M5V 1G5', 'V6V 8Z3', 'B3J 9S2',\n",
       "       'M5B 3E4', 'R2C 0M5', 'S6J 3G0', 'M2P 4F6', 'P1J 8T7', 'V09 2E9',\n",
       "       'A1C 6H9', 'V10 6T5', 'B3C 2M8', 'M9K 2P4', 'T4V 1D4', 'R3R 3T4',\n",
       "       'S1J 3C5', 'E1A 2A7', 'K1G 4Z0', 'H3T 8L4', 'C1A 6E8', 'H3J 5I6',\n",
       "       'M3R 4K8'], dtype=object)"
      ]
     },
     "execution_count": 452,
     "metadata": {},
     "output_type": "execute_result"
    }
   ],
   "source": [
    "df_Customer_Loyalty_History[\"Postal Code\"].unique()"
   ]
  },
  {
   "cell_type": "code",
   "execution_count": 453,
   "metadata": {},
   "outputs": [
    {
     "data": {
      "text/plain": [
       "array(['Star', 'Aurora', 'Nova'], dtype=object)"
      ]
     },
     "execution_count": 453,
     "metadata": {},
     "output_type": "execute_result"
    }
   ],
   "source": [
    "df_Customer_Loyalty_History[\"Loyalty Card\"].unique()"
   ]
  },
  {
   "cell_type": "code",
   "execution_count": 454,
   "metadata": {},
   "outputs": [
    {
     "data": {
      "text/plain": [
       "array(['Bachelor', 'College', 'Master', 'High School or Below', 'Doctor'],\n",
       "      dtype=object)"
      ]
     },
     "execution_count": 454,
     "metadata": {},
     "output_type": "execute_result"
    }
   ],
   "source": [
    "df_Customer_Loyalty_History[\"Education\"].unique()"
   ]
  },
  {
   "cell_type": "code",
   "execution_count": 455,
   "metadata": {},
   "outputs": [
    {
     "data": {
      "text/plain": [
       "array(['Canada'], dtype=object)"
      ]
     },
     "execution_count": 455,
     "metadata": {},
     "output_type": "execute_result"
    }
   ],
   "source": [
    "df_Customer_Loyalty_History[\"Country\"].unique()"
   ]
  },
  {
   "cell_type": "code",
   "execution_count": 456,
   "metadata": {},
   "outputs": [
    {
     "data": {
      "text/plain": [
       "array([  nan, 2018., 2015., 2017., 2014., 2016., 2013.])"
      ]
     },
     "execution_count": 456,
     "metadata": {},
     "output_type": "execute_result"
    }
   ],
   "source": [
    "df_Customer_Loyalty_History[\"Cancellation Year\"].unique()"
   ]
  },
  {
   "cell_type": "code",
   "execution_count": 457,
   "metadata": {},
   "outputs": [
    {
     "data": {
      "text/plain": [
       "array([nan,  1., 12.,  4.,  2.,  7., 11.,  5.,  6., 10.,  8.,  9.,  3.])"
      ]
     },
     "execution_count": 457,
     "metadata": {},
     "output_type": "execute_result"
    }
   ],
   "source": [
    "df_Customer_Loyalty_History[\"Cancellation Month\"].unique()"
   ]
  },
  {
   "cell_type": "code",
   "execution_count": 458,
   "metadata": {},
   "outputs": [
    {
     "data": {
      "text/plain": [
       "array(['Ontario', 'Alberta', 'British Columbia', 'Quebec', 'Yukon',\n",
       "       'New Brunswick', 'Manitoba', 'Nova Scotia', 'Saskatchewan',\n",
       "       'Newfoundland', 'Prince Edward Island'], dtype=object)"
      ]
     },
     "execution_count": 458,
     "metadata": {},
     "output_type": "execute_result"
    }
   ],
   "source": [
    "df_Customer_Loyalty_History[\"Province\"].unique()"
   ]
  },
  {
   "cell_type": "code",
   "execution_count": 459,
   "metadata": {},
   "outputs": [
    {
     "data": {
      "text/plain": [
       "array(['Toronto', 'Edmonton', 'Vancouver', 'Hull', 'Whitehorse',\n",
       "       'Trenton', 'Montreal', 'Dawson Creek', 'Quebec City',\n",
       "       'Fredericton', 'Ottawa', 'Tremblant', 'Calgary', 'Thunder Bay',\n",
       "       'Whistler', 'Peace River', 'Winnipeg', 'Sudbury', 'West Vancouver',\n",
       "       'Halifax', 'London', 'Regina', 'Kelowna', \"St. John's\", 'Victoria',\n",
       "       'Kingston', 'Banff', 'Moncton', 'Charlottetown'], dtype=object)"
      ]
     },
     "execution_count": 459,
     "metadata": {},
     "output_type": "execute_result"
    }
   ],
   "source": [
    "df_Customer_Loyalty_History[\"City\"].unique()"
   ]
  },
  {
   "cell_type": "code",
   "execution_count": 460,
   "metadata": {},
   "outputs": [
    {
     "data": {
      "text/plain": [
       "array(['Standard', '2018 Promotion'], dtype=object)"
      ]
     },
     "execution_count": 460,
     "metadata": {},
     "output_type": "execute_result"
    }
   ],
   "source": [
    "df_Customer_Loyalty_History[\"Enrollment Type\"].unique()"
   ]
  },
  {
   "cell_type": "code",
   "execution_count": 461,
   "metadata": {},
   "outputs": [
    {
     "data": {
      "text/plain": [
       "array([ 2,  3,  7, 10,  5,  6, 12,  1, 11,  8,  4,  9])"
      ]
     },
     "execution_count": 461,
     "metadata": {},
     "output_type": "execute_result"
    }
   ],
   "source": [
    "df_Customer_Loyalty_History[\"Enrollment Month\"].unique()"
   ]
  },
  {
   "cell_type": "code",
   "execution_count": 462,
   "metadata": {},
   "outputs": [
    {
     "data": {
      "text/plain": [
       "array([2016, 2014, 2013, 2012, 2015, 2018, 2017])"
      ]
     },
     "execution_count": 462,
     "metadata": {},
     "output_type": "execute_result"
    }
   ],
   "source": [
    "df_Customer_Loyalty_History[\"Enrollment Year\"].unique()"
   ]
  },
  {
   "cell_type": "code",
   "execution_count": 463,
   "metadata": {},
   "outputs": [
    {
     "data": {
      "text/plain": [
       "Loyalty Number            0\n",
       "Country                   0\n",
       "Province                  0\n",
       "City                      0\n",
       "Postal Code               0\n",
       "Gender                    0\n",
       "Education                 0\n",
       "Salary                 4238\n",
       "Marital Status            0\n",
       "Loyalty Card              0\n",
       "CLV                       0\n",
       "Enrollment Type           0\n",
       "Enrollment Year           0\n",
       "Enrollment Month          0\n",
       "Cancellation Year     14670\n",
       "Cancellation Month    14670\n",
       "dtype: int64"
      ]
     },
     "execution_count": 463,
     "metadata": {},
     "output_type": "execute_result"
    }
   ],
   "source": [
    "df_Customer_Loyalty_History.isnull().sum()"
   ]
  },
  {
   "cell_type": "markdown",
   "metadata": {},
   "source": [
    "Hay muchos nulos en cancelation year y en cancelation month.Casi en su totalidad. Porque deben ser usuarios activos, en cambios los que si contienen datos son los que ya no estan activos. \n",
    "y hay algunos nulos en salaray, pero aproximadamente un 1/3 de todas las entradas."
   ]
  },
  {
   "cell_type": "code",
   "execution_count": 464,
   "metadata": {},
   "outputs": [],
   "source": [
    "#saco en porcentaje los nulos\n",
    "nulos = df_Customer_Loyalty_History.isnull().sum()\n",
    "porcentaje_nulos = (nulos / df_Customer_Loyalty_History.shape[0]) * 100"
   ]
  },
  {
   "cell_type": "code",
   "execution_count": 465,
   "metadata": {},
   "outputs": [
    {
     "data": {
      "text/plain": [
       "Loyalty Number         0.000000\n",
       "Country                0.000000\n",
       "Province               0.000000\n",
       "City                   0.000000\n",
       "Postal Code            0.000000\n",
       "Gender                 0.000000\n",
       "Education              0.000000\n",
       "Salary                25.321145\n",
       "Marital Status         0.000000\n",
       "Loyalty Card           0.000000\n",
       "CLV                    0.000000\n",
       "Enrollment Type        0.000000\n",
       "Enrollment Year        0.000000\n",
       "Enrollment Month       0.000000\n",
       "Cancellation Year     87.650117\n",
       "Cancellation Month    87.650117\n",
       "dtype: float64"
      ]
     },
     "execution_count": 465,
     "metadata": {},
     "output_type": "execute_result"
    }
   ],
   "source": [
    "porcentaje_nulos"
   ]
  },
  {
   "cell_type": "markdown",
   "metadata": {},
   "source": [
    "-----------------------------------------------------------"
   ]
  },
  {
   "cell_type": "markdown",
   "metadata": {},
   "source": [
    "**2. Limpieza de Datos:**"
   ]
  },
  {
   "cell_type": "code",
   "execution_count": 466,
   "metadata": {},
   "outputs": [
    {
     "data": {
      "text/plain": [
       "np.int64(1864)"
      ]
     },
     "execution_count": 466,
     "metadata": {},
     "output_type": "execute_result"
    }
   ],
   "source": [
    "df_Customer_Flight_Activity.duplicated().sum()"
   ]
  },
  {
   "cell_type": "code",
   "execution_count": 467,
   "metadata": {},
   "outputs": [],
   "source": [
    "#limpio los 1864 duplicados de flight activity\n",
    "df_Customer_Flight_Activity = df_Customer_Flight_Activity.drop_duplicates() "
   ]
  },
  {
   "cell_type": "code",
   "execution_count": 468,
   "metadata": {},
   "outputs": [
    {
     "data": {
      "text/plain": [
       "np.int64(0)"
      ]
     },
     "execution_count": 468,
     "metadata": {},
     "output_type": "execute_result"
    }
   ],
   "source": [
    "#confirmo haber eliminado los duplicados\n",
    "df_Customer_Flight_Activity.duplicated().sum()"
   ]
  },
  {
   "cell_type": "code",
   "execution_count": 469,
   "metadata": {},
   "outputs": [
    {
     "name": "stderr",
     "output_type": "stream",
     "text": [
      "/var/folders/r0/g4nxs3t525qfy65ly6y43jyw0000gn/T/ipykernel_93263/193032158.py:2: FutureWarning: A value is trying to be set on a copy of a DataFrame or Series through chained assignment using an inplace method.\n",
      "The behavior will change in pandas 3.0. This inplace method will never work because the intermediate object on which we are setting values always behaves as a copy.\n",
      "\n",
      "For example, when doing 'df[col].method(value, inplace=True)', try using 'df.method({col: value}, inplace=True)' or df[col] = df[col].method(value) instead, to perform the operation inplace on the original object.\n",
      "\n",
      "\n",
      "  df_Customer_Loyalty_History[\"Cancellation Year\"].fillna(\"0\", inplace=True)\n",
      "/var/folders/r0/g4nxs3t525qfy65ly6y43jyw0000gn/T/ipykernel_93263/193032158.py:2: FutureWarning: Setting an item of incompatible dtype is deprecated and will raise an error in a future version of pandas. Value '0' has dtype incompatible with float64, please explicitly cast to a compatible dtype first.\n",
      "  df_Customer_Loyalty_History[\"Cancellation Year\"].fillna(\"0\", inplace=True)\n",
      "/var/folders/r0/g4nxs3t525qfy65ly6y43jyw0000gn/T/ipykernel_93263/193032158.py:3: FutureWarning: A value is trying to be set on a copy of a DataFrame or Series through chained assignment using an inplace method.\n",
      "The behavior will change in pandas 3.0. This inplace method will never work because the intermediate object on which we are setting values always behaves as a copy.\n",
      "\n",
      "For example, when doing 'df[col].method(value, inplace=True)', try using 'df.method({col: value}, inplace=True)' or df[col] = df[col].method(value) instead, to perform the operation inplace on the original object.\n",
      "\n",
      "\n",
      "  df_Customer_Loyalty_History[\"Cancellation Month\"].fillna(\"0\", inplace=True)\n",
      "/var/folders/r0/g4nxs3t525qfy65ly6y43jyw0000gn/T/ipykernel_93263/193032158.py:3: FutureWarning: Setting an item of incompatible dtype is deprecated and will raise an error in a future version of pandas. Value '0' has dtype incompatible with float64, please explicitly cast to a compatible dtype first.\n",
      "  df_Customer_Loyalty_History[\"Cancellation Month\"].fillna(\"0\", inplace=True)\n"
     ]
    }
   ],
   "source": [
    "#Relleno los nulos de cancelation year y month que estan vacios o nulos con el numero 0\n",
    "df_Customer_Loyalty_History[\"Cancellation Year\"].fillna(\"0\", inplace=True)\n",
    "df_Customer_Loyalty_History[\"Cancellation Month\"].fillna(\"0\", inplace=True)\n"
   ]
  },
  {
   "cell_type": "code",
   "execution_count": 470,
   "metadata": {},
   "outputs": [
    {
     "data": {
      "text/html": [
       "<div>\n",
       "<style scoped>\n",
       "    .dataframe tbody tr th:only-of-type {\n",
       "        vertical-align: middle;\n",
       "    }\n",
       "\n",
       "    .dataframe tbody tr th {\n",
       "        vertical-align: top;\n",
       "    }\n",
       "\n",
       "    .dataframe thead th {\n",
       "        text-align: right;\n",
       "    }\n",
       "</style>\n",
       "<table border=\"1\" class=\"dataframe\">\n",
       "  <thead>\n",
       "    <tr style=\"text-align: right;\">\n",
       "      <th></th>\n",
       "      <th>Loyalty Number</th>\n",
       "      <th>Country</th>\n",
       "      <th>Province</th>\n",
       "      <th>City</th>\n",
       "      <th>Postal Code</th>\n",
       "      <th>Gender</th>\n",
       "      <th>Education</th>\n",
       "      <th>Salary</th>\n",
       "      <th>Marital Status</th>\n",
       "      <th>Loyalty Card</th>\n",
       "      <th>CLV</th>\n",
       "      <th>Enrollment Type</th>\n",
       "      <th>Enrollment Year</th>\n",
       "      <th>Enrollment Month</th>\n",
       "      <th>Cancellation Year</th>\n",
       "      <th>Cancellation Month</th>\n",
       "    </tr>\n",
       "  </thead>\n",
       "  <tbody>\n",
       "    <tr>\n",
       "      <th>2509</th>\n",
       "      <td>898514</td>\n",
       "      <td>Canada</td>\n",
       "      <td>Alberta</td>\n",
       "      <td>Peace River</td>\n",
       "      <td>T9O 2W2</td>\n",
       "      <td>Female</td>\n",
       "      <td>High School or Below</td>\n",
       "      <td>60681.0</td>\n",
       "      <td>Married</td>\n",
       "      <td>Aurora</td>\n",
       "      <td>8269.08</td>\n",
       "      <td>Standard</td>\n",
       "      <td>2018</td>\n",
       "      <td>1</td>\n",
       "      <td>0</td>\n",
       "      <td>0</td>\n",
       "    </tr>\n",
       "    <tr>\n",
       "      <th>2434</th>\n",
       "      <td>244734</td>\n",
       "      <td>Canada</td>\n",
       "      <td>British Columbia</td>\n",
       "      <td>Whistler</td>\n",
       "      <td>V6T 1Y8</td>\n",
       "      <td>Male</td>\n",
       "      <td>Bachelor</td>\n",
       "      <td>54294.0</td>\n",
       "      <td>Married</td>\n",
       "      <td>Aurora</td>\n",
       "      <td>8114.41</td>\n",
       "      <td>Standard</td>\n",
       "      <td>2018</td>\n",
       "      <td>7</td>\n",
       "      <td>0</td>\n",
       "      <td>0</td>\n",
       "    </tr>\n",
       "    <tr>\n",
       "      <th>4678</th>\n",
       "      <td>138204</td>\n",
       "      <td>Canada</td>\n",
       "      <td>Quebec</td>\n",
       "      <td>Montreal</td>\n",
       "      <td>H2Y 2W2</td>\n",
       "      <td>Male</td>\n",
       "      <td>College</td>\n",
       "      <td>NaN</td>\n",
       "      <td>Single</td>\n",
       "      <td>Nova</td>\n",
       "      <td>3008.97</td>\n",
       "      <td>Standard</td>\n",
       "      <td>2016</td>\n",
       "      <td>7</td>\n",
       "      <td>0</td>\n",
       "      <td>0</td>\n",
       "    </tr>\n",
       "    <tr>\n",
       "      <th>7882</th>\n",
       "      <td>846515</td>\n",
       "      <td>Canada</td>\n",
       "      <td>Ontario</td>\n",
       "      <td>Trenton</td>\n",
       "      <td>K8V 4B2</td>\n",
       "      <td>Female</td>\n",
       "      <td>Bachelor</td>\n",
       "      <td>55432.0</td>\n",
       "      <td>Married</td>\n",
       "      <td>Nova</td>\n",
       "      <td>7887.82</td>\n",
       "      <td>Standard</td>\n",
       "      <td>2017</td>\n",
       "      <td>5</td>\n",
       "      <td>0</td>\n",
       "      <td>0</td>\n",
       "    </tr>\n",
       "    <tr>\n",
       "      <th>14736</th>\n",
       "      <td>717308</td>\n",
       "      <td>Canada</td>\n",
       "      <td>British Columbia</td>\n",
       "      <td>Vancouver</td>\n",
       "      <td>V6E 3D9</td>\n",
       "      <td>Male</td>\n",
       "      <td>Bachelor</td>\n",
       "      <td>78464.0</td>\n",
       "      <td>Married</td>\n",
       "      <td>Star</td>\n",
       "      <td>7712.44</td>\n",
       "      <td>Standard</td>\n",
       "      <td>2014</td>\n",
       "      <td>6</td>\n",
       "      <td>0</td>\n",
       "      <td>0</td>\n",
       "    </tr>\n",
       "  </tbody>\n",
       "</table>\n",
       "</div>"
      ],
      "text/plain": [
       "       Loyalty Number Country          Province         City Postal Code  \\\n",
       "2509           898514  Canada           Alberta  Peace River     T9O 2W2   \n",
       "2434           244734  Canada  British Columbia     Whistler     V6T 1Y8   \n",
       "4678           138204  Canada            Quebec     Montreal     H2Y 2W2   \n",
       "7882           846515  Canada           Ontario      Trenton     K8V 4B2   \n",
       "14736          717308  Canada  British Columbia    Vancouver     V6E 3D9   \n",
       "\n",
       "       Gender             Education   Salary Marital Status Loyalty Card  \\\n",
       "2509   Female  High School or Below  60681.0        Married       Aurora   \n",
       "2434     Male              Bachelor  54294.0        Married       Aurora   \n",
       "4678     Male               College      NaN         Single         Nova   \n",
       "7882   Female              Bachelor  55432.0        Married         Nova   \n",
       "14736    Male              Bachelor  78464.0        Married         Star   \n",
       "\n",
       "           CLV Enrollment Type  Enrollment Year  Enrollment Month  \\\n",
       "2509   8269.08        Standard             2018                 1   \n",
       "2434   8114.41        Standard             2018                 7   \n",
       "4678   3008.97        Standard             2016                 7   \n",
       "7882   7887.82        Standard             2017                 5   \n",
       "14736  7712.44        Standard             2014                 6   \n",
       "\n",
       "      Cancellation Year Cancellation Month  \n",
       "2509                  0                  0  \n",
       "2434                  0                  0  \n",
       "4678                  0                  0  \n",
       "7882                  0                  0  \n",
       "14736                 0                  0  "
      ]
     },
     "execution_count": 470,
     "metadata": {},
     "output_type": "execute_result"
    }
   ],
   "source": [
    "df_Customer_Loyalty_History.sample(5)"
   ]
  },
  {
   "cell_type": "code",
   "execution_count": 471,
   "metadata": {},
   "outputs": [
    {
     "data": {
      "text/html": [
       "<div>\n",
       "<style scoped>\n",
       "    .dataframe tbody tr th:only-of-type {\n",
       "        vertical-align: middle;\n",
       "    }\n",
       "\n",
       "    .dataframe tbody tr th {\n",
       "        vertical-align: top;\n",
       "    }\n",
       "\n",
       "    .dataframe thead th {\n",
       "        text-align: right;\n",
       "    }\n",
       "</style>\n",
       "<table border=\"1\" class=\"dataframe\">\n",
       "  <thead>\n",
       "    <tr style=\"text-align: right;\">\n",
       "      <th></th>\n",
       "      <th>Loyalty Number</th>\n",
       "      <th>Country</th>\n",
       "      <th>Province</th>\n",
       "      <th>City</th>\n",
       "      <th>Postal Code</th>\n",
       "      <th>Gender</th>\n",
       "      <th>Education</th>\n",
       "      <th>Salary</th>\n",
       "      <th>Marital Status</th>\n",
       "      <th>Loyalty Card</th>\n",
       "      <th>CLV</th>\n",
       "      <th>Enrollment Type</th>\n",
       "      <th>Enrollment Year</th>\n",
       "      <th>Enrollment Month</th>\n",
       "      <th>Cancellation Year</th>\n",
       "      <th>Cancellation Month</th>\n",
       "    </tr>\n",
       "  </thead>\n",
       "  <tbody>\n",
       "    <tr>\n",
       "      <th>4348</th>\n",
       "      <td>862932</td>\n",
       "      <td>Canada</td>\n",
       "      <td>Alberta</td>\n",
       "      <td>Edmonton</td>\n",
       "      <td>T3G 6Y6</td>\n",
       "      <td>Male</td>\n",
       "      <td>Bachelor</td>\n",
       "      <td>60428.0</td>\n",
       "      <td>Married</td>\n",
       "      <td>Nova</td>\n",
       "      <td>2821.95</td>\n",
       "      <td>Standard</td>\n",
       "      <td>2017</td>\n",
       "      <td>8</td>\n",
       "      <td>0</td>\n",
       "      <td>0</td>\n",
       "    </tr>\n",
       "    <tr>\n",
       "      <th>14180</th>\n",
       "      <td>740814</td>\n",
       "      <td>Canada</td>\n",
       "      <td>Ontario</td>\n",
       "      <td>Toronto</td>\n",
       "      <td>P2T 6G3</td>\n",
       "      <td>Male</td>\n",
       "      <td>Bachelor</td>\n",
       "      <td>97333.0</td>\n",
       "      <td>Married</td>\n",
       "      <td>Star</td>\n",
       "      <td>6298.18</td>\n",
       "      <td>Standard</td>\n",
       "      <td>2015</td>\n",
       "      <td>7</td>\n",
       "      <td>0</td>\n",
       "      <td>0</td>\n",
       "    </tr>\n",
       "    <tr>\n",
       "      <th>2777</th>\n",
       "      <td>500788</td>\n",
       "      <td>Canada</td>\n",
       "      <td>Ontario</td>\n",
       "      <td>Toronto</td>\n",
       "      <td>M2M 7K8</td>\n",
       "      <td>Male</td>\n",
       "      <td>Bachelor</td>\n",
       "      <td>92396.0</td>\n",
       "      <td>Married</td>\n",
       "      <td>Aurora</td>\n",
       "      <td>8838.09</td>\n",
       "      <td>Standard</td>\n",
       "      <td>2012</td>\n",
       "      <td>8</td>\n",
       "      <td>0</td>\n",
       "      <td>0</td>\n",
       "    </tr>\n",
       "    <tr>\n",
       "      <th>2901</th>\n",
       "      <td>454073</td>\n",
       "      <td>Canada</td>\n",
       "      <td>British Columbia</td>\n",
       "      <td>Whistler</td>\n",
       "      <td>V6T 1Y8</td>\n",
       "      <td>Male</td>\n",
       "      <td>Bachelor</td>\n",
       "      <td>103420.0</td>\n",
       "      <td>Married</td>\n",
       "      <td>Aurora</td>\n",
       "      <td>9277.47</td>\n",
       "      <td>Standard</td>\n",
       "      <td>2016</td>\n",
       "      <td>8</td>\n",
       "      <td>0</td>\n",
       "      <td>0</td>\n",
       "    </tr>\n",
       "    <tr>\n",
       "      <th>6088</th>\n",
       "      <td>743879</td>\n",
       "      <td>Canada</td>\n",
       "      <td>British Columbia</td>\n",
       "      <td>Vancouver</td>\n",
       "      <td>V6E 3D9</td>\n",
       "      <td>Female</td>\n",
       "      <td>High School or Below</td>\n",
       "      <td>78644.0</td>\n",
       "      <td>Divorced</td>\n",
       "      <td>Nova</td>\n",
       "      <td>4770.74</td>\n",
       "      <td>Standard</td>\n",
       "      <td>2016</td>\n",
       "      <td>7</td>\n",
       "      <td>0</td>\n",
       "      <td>0</td>\n",
       "    </tr>\n",
       "  </tbody>\n",
       "</table>\n",
       "</div>"
      ],
      "text/plain": [
       "       Loyalty Number Country          Province       City Postal Code  \\\n",
       "4348           862932  Canada           Alberta   Edmonton     T3G 6Y6   \n",
       "14180          740814  Canada           Ontario    Toronto     P2T 6G3   \n",
       "2777           500788  Canada           Ontario    Toronto     M2M 7K8   \n",
       "2901           454073  Canada  British Columbia   Whistler     V6T 1Y8   \n",
       "6088           743879  Canada  British Columbia  Vancouver     V6E 3D9   \n",
       "\n",
       "       Gender             Education    Salary Marital Status Loyalty Card  \\\n",
       "4348     Male              Bachelor   60428.0        Married         Nova   \n",
       "14180    Male              Bachelor   97333.0        Married         Star   \n",
       "2777     Male              Bachelor   92396.0        Married       Aurora   \n",
       "2901     Male              Bachelor  103420.0        Married       Aurora   \n",
       "6088   Female  High School or Below   78644.0       Divorced         Nova   \n",
       "\n",
       "           CLV Enrollment Type  Enrollment Year  Enrollment Month  \\\n",
       "4348   2821.95        Standard             2017                 8   \n",
       "14180  6298.18        Standard             2015                 7   \n",
       "2777   8838.09        Standard             2012                 8   \n",
       "2901   9277.47        Standard             2016                 8   \n",
       "6088   4770.74        Standard             2016                 7   \n",
       "\n",
       "       Cancellation Year  Cancellation Month  \n",
       "4348                   0                   0  \n",
       "14180                  0                   0  \n",
       "2777                   0                   0  \n",
       "2901                   0                   0  \n",
       "6088                   0                   0  "
      ]
     },
     "execution_count": 471,
     "metadata": {},
     "output_type": "execute_result"
    }
   ],
   "source": [
    "#cambio el tipo float a enteros para los años y meses queden en numeros enteros y no con decimales\n",
    "df_Customer_Loyalty_History[\"Cancellation Year\"] = df_Customer_Loyalty_History[\"Cancellation Year\"].astype(int)\n",
    "df_Customer_Loyalty_History[\"Cancellation Month\"] = df_Customer_Loyalty_History[\"Cancellation Month\"].astype(int)\n",
    "df_Customer_Loyalty_History.sample(5)"
   ]
  },
  {
   "cell_type": "code",
   "execution_count": 472,
   "metadata": {},
   "outputs": [
    {
     "data": {
      "image/png": "[encoded data removed]",
      "text/plain": [
       "<Figure size 640x480 with 1 Axes>"
      ]
     },
     "metadata": {},
     "output_type": "display_data"
    }
   ],
   "source": [
    "#para la columna sueldos que es Numérica y tiene bajos nulos\n",
    "#- distribución simétrica: imputación con la media\n",
    "#- distribución asimétrica: imputación con la mediana\n",
    "\n",
    "sns.boxplot(x= \"Salary\", data= df_Customer_Loyalty_History); "
   ]
  },
  {
   "cell_type": "code",
   "execution_count": 473,
   "metadata": {},
   "outputs": [
    {
     "data": {
      "text/plain": [
       "array([ 83236.,     nan, 103495., ...,  76178.,  91970., -57297.])"
      ]
     },
     "execution_count": 473,
     "metadata": {},
     "output_type": "execute_result"
    }
   ],
   "source": [
    "df_Customer_Loyalty_History[\"Salary\"].unique()"
   ]
  },
  {
   "cell_type": "code",
   "execution_count": 474,
   "metadata": {},
   "outputs": [],
   "source": [
    "#veo que hay valores negativos, entonces elimino esos valores en neagtivos\n",
    "df_Customer_Loyalty_History[\"Salary\"] = df_Customer_Loyalty_History[\"Salary\"].abs()"
   ]
  },
  {
   "cell_type": "code",
   "execution_count": 475,
   "metadata": {},
   "outputs": [
    {
     "data": {
      "text/plain": [
       "array([ 83236.,     nan, 103495., ...,  76178.,  91970.,  57297.])"
      ]
     },
     "execution_count": 475,
     "metadata": {},
     "output_type": "execute_result"
    }
   ],
   "source": [
    "#verifico haber eliminado esos valores negativos\n",
    "df_Customer_Loyalty_History[\"Salary\"].unique()"
   ]
  },
  {
   "cell_type": "code",
   "execution_count": 476,
   "metadata": {},
   "outputs": [
    {
     "data": {
      "image/png": "[encoded data removed]",
      "text/plain": [
       "<Figure size 640x480 with 1 Axes>"
      ]
     },
     "metadata": {},
     "output_type": "display_data"
    }
   ],
   "source": [
    "#verifico haber eliminado esos valores negativos por medio de un boxplot para asegurarme bien\n",
    "sns.boxplot(x= \"Salary\", data= df_Customer_Loyalty_History); "
   ]
  },
  {
   "cell_type": "code",
   "execution_count": 477,
   "metadata": {},
   "outputs": [
    {
     "name": "stderr",
     "output_type": "stream",
     "text": [
      "/var/folders/r0/g4nxs3t525qfy65ly6y43jyw0000gn/T/ipykernel_93263/4128205928.py:2: FutureWarning: A value is trying to be set on a copy of a DataFrame or Series through chained assignment using an inplace method.\n",
      "The behavior will change in pandas 3.0. This inplace method will never work because the intermediate object on which we are setting values always behaves as a copy.\n",
      "\n",
      "For example, when doing 'df[col].method(value, inplace=True)', try using 'df.method({col: value}, inplace=True)' or df[col] = df[col].method(value) instead, to perform the operation inplace on the original object.\n",
      "\n",
      "\n",
      "  df_Customer_Loyalty_History[\"Salary\"].fillna(df_Customer_Loyalty_History[\"Salary\"].median(), inplace=True)\n"
     ]
    }
   ],
   "source": [
    "#veo distribución asimétrica, por eso inputo con la mediana y no con la media\n",
    "df_Customer_Loyalty_History[\"Salary\"].fillna(df_Customer_Loyalty_History[\"Salary\"].median(), inplace=True)"
   ]
  },
  {
   "cell_type": "code",
   "execution_count": 478,
   "metadata": {},
   "outputs": [
    {
     "data": {
      "text/plain": [
       "Loyalty Number        0\n",
       "Country               0\n",
       "Province              0\n",
       "City                  0\n",
       "Postal Code           0\n",
       "Gender                0\n",
       "Education             0\n",
       "Salary                0\n",
       "Marital Status        0\n",
       "Loyalty Card          0\n",
       "CLV                   0\n",
       "Enrollment Type       0\n",
       "Enrollment Year       0\n",
       "Enrollment Month      0\n",
       "Cancellation Year     0\n",
       "Cancellation Month    0\n",
       "dtype: int64"
      ]
     },
     "execution_count": 478,
     "metadata": {},
     "output_type": "execute_result"
    }
   ],
   "source": [
    "#Verifico que no haya valores nulos\n",
    "df_Customer_Loyalty_History.isnull().sum()"
   ]
  },
  {
   "cell_type": "markdown",
   "metadata": {},
   "source": [
    "---------------------------------------------------------------"
   ]
  },
  {
   "cell_type": "markdown",
   "metadata": {},
   "source": [
    "**HAGO LA UNION DE AMBOS DATA FRAMES**"
   ]
  },
  {
   "cell_type": "code",
   "execution_count": 479,
   "metadata": {},
   "outputs": [
    {
     "data": {
      "text/html": [
       "<div>\n",
       "<style scoped>\n",
       "    .dataframe tbody tr th:only-of-type {\n",
       "        vertical-align: middle;\n",
       "    }\n",
       "\n",
       "    .dataframe tbody tr th {\n",
       "        vertical-align: top;\n",
       "    }\n",
       "\n",
       "    .dataframe thead th {\n",
       "        text-align: right;\n",
       "    }\n",
       "</style>\n",
       "<table border=\"1\" class=\"dataframe\">\n",
       "  <thead>\n",
       "    <tr style=\"text-align: right;\">\n",
       "      <th></th>\n",
       "      <th>Loyalty Number</th>\n",
       "      <th>Year</th>\n",
       "      <th>Month</th>\n",
       "      <th>Flights Booked</th>\n",
       "      <th>Flights with Companions</th>\n",
       "      <th>Total Flights</th>\n",
       "      <th>Distance</th>\n",
       "      <th>Points Accumulated</th>\n",
       "      <th>Points Redeemed</th>\n",
       "      <th>Dollar Cost Points Redeemed</th>\n",
       "      <th>Country</th>\n",
       "      <th>Province</th>\n",
       "      <th>City</th>\n",
       "      <th>Postal Code</th>\n",
       "      <th>Gender</th>\n",
       "      <th>Education</th>\n",
       "      <th>Salary</th>\n",
       "      <th>Marital Status</th>\n",
       "      <th>Loyalty Card</th>\n",
       "      <th>CLV</th>\n",
       "      <th>Enrollment Type</th>\n",
       "      <th>Enrollment Year</th>\n",
       "      <th>Enrollment Month</th>\n",
       "      <th>Cancellation Year</th>\n",
       "      <th>Cancellation Month</th>\n",
       "    </tr>\n",
       "  </thead>\n",
       "  <tbody>\n",
       "    <tr>\n",
       "      <th>387305</th>\n",
       "      <td>890543</td>\n",
       "      <td>2017</td>\n",
       "      <td>3</td>\n",
       "      <td>7</td>\n",
       "      <td>7</td>\n",
       "      <td>14</td>\n",
       "      <td>994</td>\n",
       "      <td>99.0</td>\n",
       "      <td>401</td>\n",
       "      <td>33</td>\n",
       "      <td>Canada</td>\n",
       "      <td>Ontario</td>\n",
       "      <td>Kingston</td>\n",
       "      <td>M9K 2P4</td>\n",
       "      <td>Male</td>\n",
       "      <td>High School or Below</td>\n",
       "      <td>59155.0</td>\n",
       "      <td>Single</td>\n",
       "      <td>Star</td>\n",
       "      <td>6558.88</td>\n",
       "      <td>Standard</td>\n",
       "      <td>2012</td>\n",
       "      <td>5</td>\n",
       "      <td>0</td>\n",
       "      <td>0</td>\n",
       "    </tr>\n",
       "    <tr>\n",
       "      <th>12642</th>\n",
       "      <td>775170</td>\n",
       "      <td>2017</td>\n",
       "      <td>1</td>\n",
       "      <td>1</td>\n",
       "      <td>0</td>\n",
       "      <td>1</td>\n",
       "      <td>450</td>\n",
       "      <td>45.0</td>\n",
       "      <td>0</td>\n",
       "      <td>0</td>\n",
       "      <td>Canada</td>\n",
       "      <td>Manitoba</td>\n",
       "      <td>Winnipeg</td>\n",
       "      <td>R3R 3T4</td>\n",
       "      <td>Male</td>\n",
       "      <td>Bachelor</td>\n",
       "      <td>49886.0</td>\n",
       "      <td>Married</td>\n",
       "      <td>Nova</td>\n",
       "      <td>12880.75</td>\n",
       "      <td>Standard</td>\n",
       "      <td>2015</td>\n",
       "      <td>11</td>\n",
       "      <td>0</td>\n",
       "      <td>0</td>\n",
       "    </tr>\n",
       "    <tr>\n",
       "      <th>392079</th>\n",
       "      <td>377173</td>\n",
       "      <td>2018</td>\n",
       "      <td>12</td>\n",
       "      <td>0</td>\n",
       "      <td>0</td>\n",
       "      <td>0</td>\n",
       "      <td>0</td>\n",
       "      <td>0.0</td>\n",
       "      <td>0</td>\n",
       "      <td>0</td>\n",
       "      <td>Canada</td>\n",
       "      <td>Quebec</td>\n",
       "      <td>Montreal</td>\n",
       "      <td>H3T 8L4</td>\n",
       "      <td>Male</td>\n",
       "      <td>Bachelor</td>\n",
       "      <td>100914.0</td>\n",
       "      <td>Divorced</td>\n",
       "      <td>Nova</td>\n",
       "      <td>2814.21</td>\n",
       "      <td>Standard</td>\n",
       "      <td>2013</td>\n",
       "      <td>11</td>\n",
       "      <td>0</td>\n",
       "      <td>0</td>\n",
       "    </tr>\n",
       "    <tr>\n",
       "      <th>198990</th>\n",
       "      <td>849569</td>\n",
       "      <td>2017</td>\n",
       "      <td>12</td>\n",
       "      <td>0</td>\n",
       "      <td>0</td>\n",
       "      <td>0</td>\n",
       "      <td>0</td>\n",
       "      <td>0.0</td>\n",
       "      <td>0</td>\n",
       "      <td>0</td>\n",
       "      <td>Canada</td>\n",
       "      <td>Quebec</td>\n",
       "      <td>Quebec City</td>\n",
       "      <td>G1B 3L5</td>\n",
       "      <td>Male</td>\n",
       "      <td>Bachelor</td>\n",
       "      <td>85573.0</td>\n",
       "      <td>Married</td>\n",
       "      <td>Nova</td>\n",
       "      <td>2821.35</td>\n",
       "      <td>Standard</td>\n",
       "      <td>2018</td>\n",
       "      <td>8</td>\n",
       "      <td>0</td>\n",
       "      <td>0</td>\n",
       "    </tr>\n",
       "    <tr>\n",
       "      <th>2315</th>\n",
       "      <td>225327</td>\n",
       "      <td>2017</td>\n",
       "      <td>1</td>\n",
       "      <td>4</td>\n",
       "      <td>1</td>\n",
       "      <td>5</td>\n",
       "      <td>380</td>\n",
       "      <td>38.0</td>\n",
       "      <td>0</td>\n",
       "      <td>0</td>\n",
       "      <td>Canada</td>\n",
       "      <td>Ontario</td>\n",
       "      <td>Toronto</td>\n",
       "      <td>P2T 6G3</td>\n",
       "      <td>Male</td>\n",
       "      <td>Bachelor</td>\n",
       "      <td>84015.0</td>\n",
       "      <td>Married</td>\n",
       "      <td>Nova</td>\n",
       "      <td>25807.06</td>\n",
       "      <td>Standard</td>\n",
       "      <td>2015</td>\n",
       "      <td>8</td>\n",
       "      <td>0</td>\n",
       "      <td>0</td>\n",
       "    </tr>\n",
       "  </tbody>\n",
       "</table>\n",
       "</div>"
      ],
      "text/plain": [
       "        Loyalty Number  Year  Month  Flights Booked  Flights with Companions  \\\n",
       "387305          890543  2017      3               7                        7   \n",
       "12642           775170  2017      1               1                        0   \n",
       "392079          377173  2018     12               0                        0   \n",
       "198990          849569  2017     12               0                        0   \n",
       "2315            225327  2017      1               4                        1   \n",
       "\n",
       "        Total Flights  Distance  Points Accumulated  Points Redeemed  \\\n",
       "387305             14       994                99.0              401   \n",
       "12642               1       450                45.0                0   \n",
       "392079              0         0                 0.0                0   \n",
       "198990              0         0                 0.0                0   \n",
       "2315                5       380                38.0                0   \n",
       "\n",
       "        Dollar Cost Points Redeemed Country  Province         City  \\\n",
       "387305                           33  Canada   Ontario     Kingston   \n",
       "12642                             0  Canada  Manitoba     Winnipeg   \n",
       "392079                            0  Canada    Quebec     Montreal   \n",
       "198990                            0  Canada    Quebec  Quebec City   \n",
       "2315                              0  Canada   Ontario      Toronto   \n",
       "\n",
       "       Postal Code Gender             Education    Salary Marital Status  \\\n",
       "387305     M9K 2P4   Male  High School or Below   59155.0         Single   \n",
       "12642      R3R 3T4   Male              Bachelor   49886.0        Married   \n",
       "392079     H3T 8L4   Male              Bachelor  100914.0       Divorced   \n",
       "198990     G1B 3L5   Male              Bachelor   85573.0        Married   \n",
       "2315       P2T 6G3   Male              Bachelor   84015.0        Married   \n",
       "\n",
       "       Loyalty Card       CLV Enrollment Type  Enrollment Year  \\\n",
       "387305         Star   6558.88        Standard             2012   \n",
       "12642          Nova  12880.75        Standard             2015   \n",
       "392079         Nova   2814.21        Standard             2013   \n",
       "198990         Nova   2821.35        Standard             2018   \n",
       "2315           Nova  25807.06        Standard             2015   \n",
       "\n",
       "        Enrollment Month  Cancellation Year  Cancellation Month  \n",
       "387305                 5                  0                   0  \n",
       "12642                 11                  0                   0  \n",
       "392079                11                  0                   0  \n",
       "198990                 8                  0                   0  \n",
       "2315                   8                  0                   0  "
      ]
     },
     "execution_count": 479,
     "metadata": {},
     "output_type": "execute_result"
    }
   ],
   "source": [
    "#Uno los dos data frames por la columna \"Loyalty Number\"\n",
    "df_completo_aerolinea = df_Customer_Flight_Activity.merge(df_Customer_Loyalty_History, on =[\"Loyalty Number\"], how = \"left\")\n",
    "df_completo_aerolinea.sample(5)\n"
   ]
  },
  {
   "cell_type": "code",
   "execution_count": 480,
   "metadata": {},
   "outputs": [
    {
     "name": "stdout",
     "output_type": "stream",
     "text": [
      "<class 'pandas.core.frame.DataFrame'>\n",
      "RangeIndex: 403760 entries, 0 to 403759\n",
      "Data columns (total 25 columns):\n",
      " #   Column                       Non-Null Count   Dtype  \n",
      "---  ------                       --------------   -----  \n",
      " 0   Loyalty Number               403760 non-null  int64  \n",
      " 1   Year                         403760 non-null  int64  \n",
      " 2   Month                        403760 non-null  int64  \n",
      " 3   Flights Booked               403760 non-null  int64  \n",
      " 4   Flights with Companions      403760 non-null  int64  \n",
      " 5   Total Flights                403760 non-null  int64  \n",
      " 6   Distance                     403760 non-null  int64  \n",
      " 7   Points Accumulated           403760 non-null  float64\n",
      " 8   Points Redeemed              403760 non-null  int64  \n",
      " 9   Dollar Cost Points Redeemed  403760 non-null  int64  \n",
      " 10  Country                      403760 non-null  object \n",
      " 11  Province                     403760 non-null  object \n",
      " 12  City                         403760 non-null  object \n",
      " 13  Postal Code                  403760 non-null  object \n",
      " 14  Gender                       403760 non-null  object \n",
      " 15  Education                    403760 non-null  object \n",
      " 16  Salary                       403760 non-null  float64\n",
      " 17  Marital Status               403760 non-null  object \n",
      " 18  Loyalty Card                 403760 non-null  object \n",
      " 19  CLV                          403760 non-null  float64\n",
      " 20  Enrollment Type              403760 non-null  object \n",
      " 21  Enrollment Year              403760 non-null  int64  \n",
      " 22  Enrollment Month             403760 non-null  int64  \n",
      " 23  Cancellation Year            403760 non-null  int64  \n",
      " 24  Cancellation Month           403760 non-null  int64  \n",
      "dtypes: float64(3), int64(13), object(9)\n",
      "memory usage: 77.0+ MB\n"
     ]
    }
   ],
   "source": [
    "df_completo_aerolinea.info()"
   ]
  },
  {
   "cell_type": "markdown",
   "metadata": {},
   "source": [
    "-------------------------------------------------------------"
   ]
  },
  {
   "cell_type": "markdown",
   "metadata": {},
   "source": [
    "**Fase 2: Visualización**"
   ]
  },
  {
   "cell_type": "code",
   "execution_count": 481,
   "metadata": {},
   "outputs": [],
   "source": [
    "#¿Cómo se distribuye la cantidad de vuelos reservados por mes durante el año?\n",
    "df_cantidad_vuelos_xmes = df_completo_aerolinea.groupby(\"Month\")[\"Flights Booked\"].count().reset_index()\n",
    "\n",
    "#Antes de hacer este grafico voy a cambiar los numero de los meses por sus nombres\n",
    "df_cantidad_vuelos_xmes[\"Month\"] = df_cantidad_vuelos_xmes[\"Month\"].replace(1, \"Enero\")\n",
    "df_cantidad_vuelos_xmes[\"Month\"] = df_cantidad_vuelos_xmes[\"Month\"].replace(2, \"Febrero\")\n",
    "df_cantidad_vuelos_xmes[\"Month\"] = df_cantidad_vuelos_xmes[\"Month\"].replace(3, \"Marzo\")\n",
    "df_cantidad_vuelos_xmes[\"Month\"] = df_cantidad_vuelos_xmes[\"Month\"].replace(4, \"Abril\")\n",
    "df_cantidad_vuelos_xmes[\"Month\"] = df_cantidad_vuelos_xmes[\"Month\"].replace(5, \"Mayo\")\n",
    "df_cantidad_vuelos_xmes[\"Month\"] = df_cantidad_vuelos_xmes[\"Month\"].replace(6, \"Junio\")\n",
    "df_cantidad_vuelos_xmes[\"Month\"] = df_cantidad_vuelos_xmes[\"Month\"].replace(7, \"Julio\")\n",
    "df_cantidad_vuelos_xmes[\"Month\"] = df_cantidad_vuelos_xmes[\"Month\"].replace(8, \"Agosto\")\n",
    "df_cantidad_vuelos_xmes[\"Month\"] = df_cantidad_vuelos_xmes[\"Month\"].replace(9, \"Septiembre\")\n",
    "df_cantidad_vuelos_xmes[\"Month\"] = df_cantidad_vuelos_xmes[\"Month\"].replace(10, \"Octubre\")\n",
    "df_cantidad_vuelos_xmes[\"Month\"] = df_cantidad_vuelos_xmes[\"Month\"].replace(11, \"Noviembre\")\n",
    "df_cantidad_vuelos_xmes[\"Month\"] = df_cantidad_vuelos_xmes[\"Month\"].replace(12, \"Deciembre\")"
   ]
  },
  {
   "cell_type": "code",
   "execution_count": 482,
   "metadata": {},
   "outputs": [
    {
     "data": {
      "image/png": "[encoded data removed]",
      "text/plain": [
       "<Figure size 800x500 with 1 Axes>"
      ]
     },
     "metadata": {},
     "output_type": "display_data"
    }
   ],
   "source": [
    "#HistogramaPrimero hice un histograma y como los valoes estan muy cercanos, decidi hacer un lineplot, para que se vea mejor la diferencia\n",
    "plt.figure(figsize=(8, 5))\n",
    "sns.lineplot(data=df_cantidad_vuelos_xmes, x=\"Month\", y=\"Flights Booked\", marker='o', color=\"#F72585\");\n",
    "plt.title('¿Cómo se distribuye la cantidad de vuelos reservados por mes durante el año?')\n",
    "plt.xlabel('Mes')\n",
    "plt.ylabel('Cantidad de Vuelos Reservados')\n",
    "plt.xticks(rotation = 45);\n",
    "plt.show()"
   ]
  },
  {
   "cell_type": "code",
   "execution_count": 483,
   "metadata": {},
   "outputs": [
    {
     "data": {
      "image/png": "[encoded data removed]",
      "text/plain": [
       "<Figure size 800x500 with 1 Axes>"
      ]
     },
     "metadata": {},
     "output_type": "display_data"
    }
   ],
   "source": [
    "#2 ¿Existe una relación entre la distancia de los vuelos y los puntos acumulados por los cliente?\n",
    "#Hago un scatter plot para ver bien que si hay correlacion\n",
    "plt.figure(figsize=(8, 5))\n",
    "sns.scatterplot(x='Distance', y='Points Accumulated', data=df_completo_aerolinea, color=\"#F72585\")\n",
    "plt.title('Relación entre la distancia de los vuelos y los puntos acumulados por los cliente')\n",
    "plt.xlabel('Distancia')\n",
    "plt.ylabel('Puntos Acumulados')\n",
    "plt.show()"
   ]
  },
  {
   "cell_type": "code",
   "execution_count": 484,
   "metadata": {},
   "outputs": [
    {
     "data": {
      "image/png": "[encoded data removed]",
      "text/plain": [
       "<Figure size 800x500 with 1 Axes>"
      ]
     },
     "metadata": {},
     "output_type": "display_data"
    }
   ],
   "source": [
    "#3.¿Cuál es la distribución de los clientes por provincia o estado?\n",
    "#directamente cuento la cantidad de veces que se repite la provincia, porque no hay \"Royalty Number\" repetidos\n",
    "#Histograma\n",
    "plt.figure(figsize=(8, 5))\n",
    "df_completo_aerolinea[\"Province\"].value_counts().plot(kind='bar', color=\"#F72585\")\n",
    "plt.title('Distribución de los clientes por provincia o estado')\n",
    "plt.xlabel('Provincia')\n",
    "plt.ylabel('Cantidad de Clientes')\n",
    "plt.show()"
   ]
  },
  {
   "cell_type": "code",
   "execution_count": 485,
   "metadata": {},
   "outputs": [
    {
     "data": {
      "image/png": "[encoded data removed]",
      "text/plain": [
       "<Figure size 800x500 with 1 Axes>"
      ]
     },
     "metadata": {},
     "output_type": "display_data"
    }
   ],
   "source": [
    "#4. ¿Cómo se compara el salario promedio entre los diferentes niveles educativos de los clientes?\n",
    "#Puse el .sort_values() para que se vea mejor el grafico, de menor a mayor\n",
    "df_salario_x_educacion = df_completo_aerolinea.groupby(\"Education\")[\"Salary\"].mean().sort_values()\n",
    "#Histograma\n",
    "plt.figure(figsize=(8, 5))\n",
    "df_salario_x_educacion.plot(kind='bar', color=\"#F72585\")\n",
    "plt.title('Comparación del salario promedio entre los diferentes niveles educativos de los clientes')\n",
    "plt.xlabel('Nivel Educativo')\n",
    "plt.ylabel('Salario Promedio')\n",
    "plt.xticks(rotation = 45);\n",
    "plt.show()"
   ]
  },
  {
   "cell_type": "code",
   "execution_count": 486,
   "metadata": {},
   "outputs": [
    {
     "data": {
      "image/png": "[encoded data removed]",
      "text/plain": [
       "<Figure size 800x500 with 1 Axes>"
      ]
     },
     "metadata": {},
     "output_type": "display_data"
    }
   ],
   "source": [
    "#5. ¿Cuál es la proporción de clientes con diferentes tipos de tarjetas de fidelidad?\n",
    "#hice un histograma\n",
    "plt.figure(figsize=(8, 5))\n",
    "df_completo_aerolinea[\"Loyalty Card\"].value_counts().plot(kind='bar', color=\"#F72585\")\n",
    "plt.title('Proporción de clientes con diferentes tipos de tarjetas de fidelidad')\n",
    "plt.xlabel('Loyalty Card')\n",
    "plt.ylabel('Cantidad de Clientes')\n",
    "plt.show()\n"
   ]
  },
  {
   "cell_type": "code",
   "execution_count": 487,
   "metadata": {},
   "outputs": [
    {
     "data": {
      "text/html": [
       "<div>\n",
       "<style scoped>\n",
       "    .dataframe tbody tr th:only-of-type {\n",
       "        vertical-align: middle;\n",
       "    }\n",
       "\n",
       "    .dataframe tbody tr th {\n",
       "        vertical-align: top;\n",
       "    }\n",
       "\n",
       "    .dataframe thead th {\n",
       "        text-align: right;\n",
       "    }\n",
       "</style>\n",
       "<table border=\"1\" class=\"dataframe\">\n",
       "  <thead>\n",
       "    <tr style=\"text-align: right;\">\n",
       "      <th></th>\n",
       "      <th>Marital Status</th>\n",
       "      <th>Gender</th>\n",
       "    </tr>\n",
       "  </thead>\n",
       "  <tbody>\n",
       "    <tr>\n",
       "      <th>0</th>\n",
       "      <td>Divorced</td>\n",
       "      <td>30634</td>\n",
       "    </tr>\n",
       "    <tr>\n",
       "      <th>1</th>\n",
       "      <td>Married</td>\n",
       "      <td>117363</td>\n",
       "    </tr>\n",
       "    <tr>\n",
       "      <th>2</th>\n",
       "      <td>Single</td>\n",
       "      <td>54760</td>\n",
       "    </tr>\n",
       "  </tbody>\n",
       "</table>\n",
       "</div>"
      ],
      "text/plain": [
       "  Marital Status  Gender\n",
       "0       Divorced   30634\n",
       "1        Married  117363\n",
       "2         Single   54760"
      ]
     },
     "execution_count": 487,
     "metadata": {},
     "output_type": "execute_result"
    }
   ],
   "source": [
    "estadocivilxmujeres = df_completo_aerolinea[df_completo_aerolinea[\"Gender\"] == \"Female\"].groupby(\"Marital Status\")[\"Gender\"].count().reset_index()\n",
    "estadocivilxmujeres"
   ]
  },
  {
   "cell_type": "code",
   "execution_count": 488,
   "metadata": {},
   "outputs": [
    {
     "data": {
      "text/html": [
       "<div>\n",
       "<style scoped>\n",
       "    .dataframe tbody tr th:only-of-type {\n",
       "        vertical-align: middle;\n",
       "    }\n",
       "\n",
       "    .dataframe tbody tr th {\n",
       "        vertical-align: top;\n",
       "    }\n",
       "\n",
       "    .dataframe thead th {\n",
       "        text-align: right;\n",
       "    }\n",
       "</style>\n",
       "<table border=\"1\" class=\"dataframe\">\n",
       "  <thead>\n",
       "    <tr style=\"text-align: right;\">\n",
       "      <th></th>\n",
       "      <th>Marital Status</th>\n",
       "      <th>Gender</th>\n",
       "    </tr>\n",
       "  </thead>\n",
       "  <tbody>\n",
       "    <tr>\n",
       "      <th>0</th>\n",
       "      <td>Divorced</td>\n",
       "      <td>30128</td>\n",
       "    </tr>\n",
       "    <tr>\n",
       "      <th>1</th>\n",
       "      <td>Married</td>\n",
       "      <td>117482</td>\n",
       "    </tr>\n",
       "    <tr>\n",
       "      <th>2</th>\n",
       "      <td>Single</td>\n",
       "      <td>53393</td>\n",
       "    </tr>\n",
       "  </tbody>\n",
       "</table>\n",
       "</div>"
      ],
      "text/plain": [
       "  Marital Status  Gender\n",
       "0       Divorced   30128\n",
       "1        Married  117482\n",
       "2         Single   53393"
      ]
     },
     "execution_count": 488,
     "metadata": {},
     "output_type": "execute_result"
    }
   ],
   "source": [
    "estadocivilxhombres = df_completo_aerolinea[df_completo_aerolinea[\"Gender\"] == \"Male\"].groupby(\"Marital Status\")[\"Gender\"].count().reset_index()\n",
    "estadocivilxhombres "
   ]
  },
  {
   "cell_type": "code",
   "execution_count": 489,
   "metadata": {},
   "outputs": [],
   "source": [
    "#Defini en una funcion los colores exactos que queria usar para que se diferencien bien entre los dos generos\n",
    "paleta_colores = [\"#F72585\", \"#4CC9F0\"]"
   ]
  },
  {
   "cell_type": "code",
   "execution_count": 490,
   "metadata": {},
   "outputs": [
    {
     "data": {
      "image/png": "[encoded data removed]",
      "text/plain": [
       "<Figure size 640x480 with 1 Axes>"
      ]
     },
     "metadata": {},
     "output_type": "display_data"
    }
   ],
   "source": [
    "#6. ¿Cómo se distribuyen los clientes según su estado civil y género?\n",
    "sns.countplot(x = \"Marital Status\", data=df_completo_aerolinea, hue='Gender', palette=paleta_colores);\n",
    "plt.xticks(rotation = 45);\n",
    "plt.title('Relación entre la frecuencia de viajes de trabajo y las personas que siguen o no en la empresa')\n",
    "plt.xlabel('Estado Civil')\n",
    "plt.show()"
   ]
  },
  {
   "cell_type": "markdown",
   "metadata": {},
   "source": [
    "-----------------------------------------------------------------------"
   ]
  },
  {
   "cell_type": "markdown",
   "metadata": {},
   "source": [
    "**BONUS Fase 3: Evaluación de Diferencias en Reservas de Vuelos por Nivel Educativo**"
   ]
  },
  {
   "cell_type": "markdown",
   "metadata": {},
   "source": [
    "Buscan evaluar si existen diferencias significativas en el número de vuelos reservados según el nivel educativo de los clientes"
   ]
  },
  {
   "cell_type": "markdown",
   "metadata": {},
   "source": [
    "**Preparacion de Datos:**"
   ]
  },
  {
   "cell_type": "code",
   "execution_count": 491,
   "metadata": {},
   "outputs": [],
   "source": [
    "#Elijo solamente las columnas con las que voy a trabajar 'Flights Booked' y 'Education'. Y las pongo en un data frame aparte\n",
    "df_bonus = df_completo_aerolinea[['Flights Booked', 'Education']]"
   ]
  },
  {
   "cell_type": "code",
   "execution_count": 492,
   "metadata": {},
   "outputs": [
    {
     "data": {
      "text/html": [
       "<div>\n",
       "<style scoped>\n",
       "    .dataframe tbody tr th:only-of-type {\n",
       "        vertical-align: middle;\n",
       "    }\n",
       "\n",
       "    .dataframe tbody tr th {\n",
       "        vertical-align: top;\n",
       "    }\n",
       "\n",
       "    .dataframe thead th {\n",
       "        text-align: right;\n",
       "    }\n",
       "</style>\n",
       "<table border=\"1\" class=\"dataframe\">\n",
       "  <thead>\n",
       "    <tr style=\"text-align: right;\">\n",
       "      <th></th>\n",
       "      <th>Flights Booked</th>\n",
       "      <th>Education</th>\n",
       "    </tr>\n",
       "  </thead>\n",
       "  <tbody>\n",
       "    <tr>\n",
       "      <th>0</th>\n",
       "      <td>3</td>\n",
       "      <td>Bachelor</td>\n",
       "    </tr>\n",
       "    <tr>\n",
       "      <th>1</th>\n",
       "      <td>10</td>\n",
       "      <td>College</td>\n",
       "    </tr>\n",
       "    <tr>\n",
       "      <th>2</th>\n",
       "      <td>6</td>\n",
       "      <td>College</td>\n",
       "    </tr>\n",
       "    <tr>\n",
       "      <th>3</th>\n",
       "      <td>0</td>\n",
       "      <td>Bachelor</td>\n",
       "    </tr>\n",
       "    <tr>\n",
       "      <th>4</th>\n",
       "      <td>0</td>\n",
       "      <td>Bachelor</td>\n",
       "    </tr>\n",
       "  </tbody>\n",
       "</table>\n",
       "</div>"
      ],
      "text/plain": [
       "   Flights Booked Education\n",
       "0               3  Bachelor\n",
       "1              10   College\n",
       "2               6   College\n",
       "3               0  Bachelor\n",
       "4               0  Bachelor"
      ]
     },
     "execution_count": 492,
     "metadata": {},
     "output_type": "execute_result"
    }
   ],
   "source": [
    "df_bonus.head()"
   ]
  },
  {
   "cell_type": "markdown",
   "metadata": {},
   "source": [
    "**Análisis Descriptivo:**"
   ]
  },
  {
   "cell_type": "code",
   "execution_count": 493,
   "metadata": {},
   "outputs": [
    {
     "data": {
      "text/html": [
       "<div>\n",
       "<style scoped>\n",
       "    .dataframe tbody tr th:only-of-type {\n",
       "        vertical-align: middle;\n",
       "    }\n",
       "\n",
       "    .dataframe tbody tr th {\n",
       "        vertical-align: top;\n",
       "    }\n",
       "\n",
       "    .dataframe thead th {\n",
       "        text-align: right;\n",
       "    }\n",
       "</style>\n",
       "<table border=\"1\" class=\"dataframe\">\n",
       "  <thead>\n",
       "    <tr style=\"text-align: right;\">\n",
       "      <th></th>\n",
       "      <th>count</th>\n",
       "      <th>mean</th>\n",
       "      <th>std</th>\n",
       "      <th>min</th>\n",
       "      <th>25%</th>\n",
       "      <th>50%</th>\n",
       "      <th>75%</th>\n",
       "      <th>max</th>\n",
       "    </tr>\n",
       "    <tr>\n",
       "      <th>Education</th>\n",
       "      <th></th>\n",
       "      <th></th>\n",
       "      <th></th>\n",
       "      <th></th>\n",
       "      <th></th>\n",
       "      <th></th>\n",
       "      <th></th>\n",
       "      <th></th>\n",
       "    </tr>\n",
       "  </thead>\n",
       "  <tbody>\n",
       "    <tr>\n",
       "      <th>Bachelor</th>\n",
       "      <td>252567.0</td>\n",
       "      <td>4.110288</td>\n",
       "      <td>5.221671</td>\n",
       "      <td>0.0</td>\n",
       "      <td>0.0</td>\n",
       "      <td>1.0</td>\n",
       "      <td>8.0</td>\n",
       "      <td>21.0</td>\n",
       "    </tr>\n",
       "    <tr>\n",
       "      <th>College</th>\n",
       "      <td>102260.0</td>\n",
       "      <td>4.169744</td>\n",
       "      <td>5.246040</td>\n",
       "      <td>0.0</td>\n",
       "      <td>0.0</td>\n",
       "      <td>1.0</td>\n",
       "      <td>8.0</td>\n",
       "      <td>21.0</td>\n",
       "    </tr>\n",
       "    <tr>\n",
       "      <th>Doctor</th>\n",
       "      <td>17731.0</td>\n",
       "      <td>4.175512</td>\n",
       "      <td>5.256971</td>\n",
       "      <td>0.0</td>\n",
       "      <td>0.0</td>\n",
       "      <td>1.0</td>\n",
       "      <td>8.0</td>\n",
       "      <td>21.0</td>\n",
       "    </tr>\n",
       "    <tr>\n",
       "      <th>High School or Below</th>\n",
       "      <td>18915.0</td>\n",
       "      <td>4.176209</td>\n",
       "      <td>5.239267</td>\n",
       "      <td>0.0</td>\n",
       "      <td>0.0</td>\n",
       "      <td>1.0</td>\n",
       "      <td>8.0</td>\n",
       "      <td>21.0</td>\n",
       "    </tr>\n",
       "    <tr>\n",
       "      <th>Master</th>\n",
       "      <td>12287.0</td>\n",
       "      <td>4.200700</td>\n",
       "      <td>5.213956</td>\n",
       "      <td>0.0</td>\n",
       "      <td>0.0</td>\n",
       "      <td>1.0</td>\n",
       "      <td>8.0</td>\n",
       "      <td>21.0</td>\n",
       "    </tr>\n",
       "  </tbody>\n",
       "</table>\n",
       "</div>"
      ],
      "text/plain": [
       "                         count      mean       std  min  25%  50%  75%   max\n",
       "Education                                                                   \n",
       "Bachelor              252567.0  4.110288  5.221671  0.0  0.0  1.0  8.0  21.0\n",
       "College               102260.0  4.169744  5.246040  0.0  0.0  1.0  8.0  21.0\n",
       "Doctor                 17731.0  4.175512  5.256971  0.0  0.0  1.0  8.0  21.0\n",
       "High School or Below   18915.0  4.176209  5.239267  0.0  0.0  1.0  8.0  21.0\n",
       "Master                 12287.0  4.200700  5.213956  0.0  0.0  1.0  8.0  21.0"
      ]
     },
     "execution_count": 493,
     "metadata": {},
     "output_type": "execute_result"
    }
   ],
   "source": [
    "#calculo de las estadísticas descriptivas básicas del número de vuelos reservados para cada grupo.\n",
    "df_x_nivel_educativo = df_bonus.groupby(\"Education\")[\"Flights Booked\"].describe()\n",
    "df_x_nivel_educativo"
   ]
  },
  {
   "cell_type": "code",
   "execution_count": 494,
   "metadata": {},
   "outputs": [
    {
     "data": {
      "text/plain": [
       "Education\n",
       "Bachelor                252567\n",
       "College                 102260\n",
       "Doctor                   17731\n",
       "High School or Below     18915\n",
       "Master                   12287\n",
       "Name: Flights Booked, dtype: int64"
      ]
     },
     "execution_count": 494,
     "metadata": {},
     "output_type": "execute_result"
    }
   ],
   "source": [
    "df_x_nivel_educativo = df_bonus.groupby(\"Education\")[\"Flights Booked\"].count()\n",
    "df_x_nivel_educativo  "
   ]
  },
  {
   "cell_type": "markdown",
   "metadata": {},
   "source": [
    "**Prueba Estadística:**"
   ]
  },
  {
   "cell_type": "code",
   "execution_count": 495,
   "metadata": {},
   "outputs": [],
   "source": [
    "#importo las bibliotecas que voy a necesitar\n",
    "import scipy.stats as st\n",
    "import scipy.stats as stats\n",
    "from scipy.stats import shapiro, poisson, chisquare, expon, kstest"
   ]
  },
  {
   "cell_type": "code",
   "execution_count": 496,
   "metadata": {},
   "outputs": [],
   "source": [
    "#Defino los grupos\n",
    "Grupo1 = df_bonus[df_bonus[\"Education\"] == \"High School or Below\"][\"Flights Booked\"].values\n",
    "Grupo2 = df_bonus[df_bonus[\"Education\"] == \"College\"][\"Flights Booked\"].values\n",
    "Grupo3 = df_bonus[df_bonus[\"Education\"] == \"Bachelor\"][\"Flights Booked\"].values\n",
    "Grupo4 = df_bonus[df_bonus[\"Education\"] == \"Master\"][\"Flights Booked\"].values\n",
    "Grupo5 = df_bonus[df_bonus[\"Education\"] == \"Doctor\"][\"Flights Booked\"].values"
   ]
  },
  {
   "cell_type": "code",
   "execution_count": 497,
   "metadata": {},
   "outputs": [],
   "source": [
    "#Uso la variable que nos paso Yanelis en la clase, para probar la hipotesis\n",
    "def prueba_hipotesis(*args):\n",
    "    \"\"\"\n",
    "    Realiza una prueba de hipótesis para comparar grupos.\n",
    "    1. Primero verifica si los datos son normales usando el test de Shapiro-Wilk o Kolmogorov-Smirnov.\n",
    "    2. Si los datos son normales, usa Bartlett para probar igualdad de varianzas. Si no son normales, usa Levene.\n",
    "    3. Si las varianzas son iguales, usa el t-test de Student; si no, usa la versión de Welch.\n",
    "    4. Si los datos no son normales, usa el test de Mann-Whitney (alternativa no paramétrica).\n",
    "\n",
    "    Parámetros:\n",
    "    *args: listas o arrays con los datos de cada grupo.\n",
    "\n",
    "    Retorna:\n",
    "    dict con resultados del test de normalidad, varianza e hipótesis.\n",
    "    \"\"\"\n",
    "    \n",
    "    # Verificar si hay al menos dos grupos\n",
    "    if len(args) < 2:\n",
    "        raise ValueError(\"Se necesitan al menos dos conjuntos de datos para realizar la prueba.\")\n",
    "    \n",
    "    # Comprobar normalidad en cada grupo\n",
    "    normalidad = []\n",
    "    for grupo in args:\n",
    "        if len(grupo) > 5000:\n",
    "            p_valor_norm = stats.kstest(grupo, 'norm').pvalue  # Kolmogorov-Smirnov si n > 50\n",
    "        else:\n",
    "            p_valor_norm = stats.shapiro(grupo).pvalue  # Shapiro-Wilk si n <= 50\n",
    "        normalidad.append(p_valor_norm > 0.05)\n",
    "\n",
    "    datos_normales = all(normalidad)  # True si todos los grupos son normales\n",
    "\n",
    "    # Prueba de igualdad de varianzas\n",
    "    if datos_normales:\n",
    "        p_valor_varianza = stats.bartlett(*args).pvalue  # Test de Bartlett si los datos son normales\n",
    "    else:\n",
    "        p_valor_varianza = stats.levene(*args, center=\"median\").pvalue  # Test de Levene si no son normales\n",
    "\n",
    "    varianzas_iguales = p_valor_varianza > 0.05\n",
    "\n",
    "    # Aplicar el test adecuado\n",
    "    if datos_normales:\n",
    "        if varianzas_iguales:\n",
    "            t_stat, p_valor = stats.ttest_ind(*args, equal_var=True)\n",
    "            test_usado = \"t-test de Student (varianzas iguales)\"\n",
    "        else:\n",
    "            t_stat, p_valor = stats.ttest_ind(*args, equal_var=False)\n",
    "            test_usado = \"t-test de Welch (varianzas desiguales)\"\n",
    "    else:\n",
    "        t_stat, p_valor = stats.mannwhitneyu(*args)\n",
    "        test_usado = \"Mann-Whitney U (prueba no paramétrica)\"\n",
    "\n",
    "    # Nivel de significancia\n",
    "    alfa = 0.05\n",
    "\n",
    "    # Resultados\n",
    "    resultado = {\n",
    "        \"Test de Normalidad\": normalidad,\n",
    "        \"Datos Normales\": datos_normales,\n",
    "        \"p-valor Varianza\": p_valor_varianza,\n",
    "        \"Varianzas Iguales\": varianzas_iguales,\n",
    "        \"Test Usado\": test_usado,\n",
    "        \"Estadístico\": t_stat,\n",
    "        \"p-valor\": p_valor,\n",
    "        \"Conclusión\": \"Rechazamos H0 (Diferencias significativas)\" if p_valor < alfa else \"No se rechaza H0 (No hay diferencias significativas)\"\n",
    "    }\n",
    "\n",
    "    # Imprimir resultados de manera más clara\n",
    "    print(\"\\n📊 **Resultados de la Prueba de Hipótesis** 📊\")\n",
    "    print(f\"✅ Test de Normalidad: {'Sí' if datos_normales else 'No'}\")\n",
    "    print(f\"   - Normalidad por grupo: {normalidad}\")\n",
    "    print(f\"✅ Test de Varianza: {'Iguales' if varianzas_iguales else 'Desiguales'} (p = {p_valor_varianza:.4f})\")\n",
    "    print(f\"✅ Test aplicado: {test_usado}\")\n",
    "    print(f\"📉 Estadístico: {t_stat:.4f}, p-valor: {p_valor:.4f}\")\n",
    "    print(f\"🔍 Conclusión: {resultado['Conclusión']}\\n\")\n",
    "\n",
    "    return resultado"
   ]
  },
  {
   "cell_type": "markdown",
   "metadata": {},
   "source": [
    "Voy a ir comparando de a 2 grupos"
   ]
  },
  {
   "cell_type": "code",
   "execution_count": 498,
   "metadata": {},
   "outputs": [
    {
     "name": "stdout",
     "output_type": "stream",
     "text": [
      "\n",
      "📊 **Resultados de la Prueba de Hipótesis** 📊\n",
      "✅ Test de Normalidad: No\n",
      "   - Normalidad por grupo: [np.False_, np.False_]\n",
      "✅ Test de Varianza: Iguales (p = 0.9502)\n",
      "✅ Test aplicado: Mann-Whitney U (prueba no paramétrica)\n",
      "📉 Estadístico: 969453228.5000, p-valor: 0.5757\n",
      "🔍 Conclusión: No se rechaza H0 (No hay diferencias significativas)\n",
      "\n"
     ]
    },
    {
     "data": {
      "text/plain": [
       "{'Test de Normalidad': [np.False_, np.False_],\n",
       " 'Datos Normales': False,\n",
       " 'p-valor Varianza': np.float64(0.9501570166570465),\n",
       " 'Varianzas Iguales': np.True_,\n",
       " 'Test Usado': 'Mann-Whitney U (prueba no paramétrica)',\n",
       " 'Estadístico': np.float64(969453228.5),\n",
       " 'p-valor': np.float64(0.575742751816062),\n",
       " 'Conclusión': 'No se rechaza H0 (No hay diferencias significativas)'}"
      ]
     },
     "execution_count": 498,
     "metadata": {},
     "output_type": "execute_result"
    }
   ],
   "source": [
    "prueba_hipotesis(Grupo1, Grupo2)"
   ]
  },
  {
   "cell_type": "code",
   "execution_count": 499,
   "metadata": {},
   "outputs": [
    {
     "name": "stdout",
     "output_type": "stream",
     "text": [
      "\n",
      "📊 **Resultados de la Prueba de Hipótesis** 📊\n",
      "✅ Test de Normalidad: No\n",
      "   - Normalidad por grupo: [np.False_, np.False_]\n",
      "✅ Test de Varianza: Desiguales (p = 0.0027)\n",
      "✅ Test aplicado: Mann-Whitney U (prueba no paramétrica)\n",
      "📉 Estadístico: 12993040557.5000, p-valor: 0.0023\n",
      "🔍 Conclusión: Rechazamos H0 (Diferencias significativas)\n",
      "\n"
     ]
    },
    {
     "data": {
      "text/plain": [
       "{'Test de Normalidad': [np.False_, np.False_],\n",
       " 'Datos Normales': False,\n",
       " 'p-valor Varianza': np.float64(0.0027344618372075052),\n",
       " 'Varianzas Iguales': np.False_,\n",
       " 'Test Usado': 'Mann-Whitney U (prueba no paramétrica)',\n",
       " 'Estadístico': np.float64(12993040557.5),\n",
       " 'p-valor': np.float64(0.002278100128804696),\n",
       " 'Conclusión': 'Rechazamos H0 (Diferencias significativas)'}"
      ]
     },
     "execution_count": 499,
     "metadata": {},
     "output_type": "execute_result"
    }
   ],
   "source": [
    "prueba_hipotesis(Grupo2, Grupo3)"
   ]
  },
  {
   "cell_type": "code",
   "execution_count": 500,
   "metadata": {},
   "outputs": [
    {
     "name": "stdout",
     "output_type": "stream",
     "text": [
      "\n",
      "📊 **Resultados de la Prueba de Hipótesis** 📊\n",
      "✅ Test de Normalidad: No\n",
      "   - Normalidad por grupo: [np.False_, np.False_]\n",
      "✅ Test de Varianza: Iguales (p = 0.1183)\n",
      "✅ Test aplicado: Mann-Whitney U (prueba no paramétrica)\n",
      "📉 Estadístico: 1532540228.0000, p-valor: 0.0141\n",
      "🔍 Conclusión: Rechazamos H0 (Diferencias significativas)\n",
      "\n"
     ]
    },
    {
     "data": {
      "text/plain": [
       "{'Test de Normalidad': [np.False_, np.False_],\n",
       " 'Datos Normales': False,\n",
       " 'p-valor Varianza': np.float64(0.11827519458967656),\n",
       " 'Varianzas Iguales': np.True_,\n",
       " 'Test Usado': 'Mann-Whitney U (prueba no paramétrica)',\n",
       " 'Estadístico': np.float64(1532540228.0),\n",
       " 'p-valor': np.float64(0.014056962299193064),\n",
       " 'Conclusión': 'Rechazamos H0 (Diferencias significativas)'}"
      ]
     },
     "execution_count": 500,
     "metadata": {},
     "output_type": "execute_result"
    }
   ],
   "source": [
    "prueba_hipotesis(Grupo3, Grupo4)"
   ]
  },
  {
   "cell_type": "code",
   "execution_count": 501,
   "metadata": {},
   "outputs": [
    {
     "name": "stdout",
     "output_type": "stream",
     "text": [
      "\n",
      "📊 **Resultados de la Prueba de Hipótesis** 📊\n",
      "✅ Test de Normalidad: No\n",
      "   - Normalidad por grupo: [np.False_, np.False_]\n",
      "✅ Test de Varianza: Iguales (p = 0.8104)\n",
      "✅ Test aplicado: Mann-Whitney U (prueba no paramétrica)\n",
      "📉 Estadístico: 109499288.0000, p-valor: 0.4139\n",
      "🔍 Conclusión: No se rechaza H0 (No hay diferencias significativas)\n",
      "\n"
     ]
    },
    {
     "data": {
      "text/plain": [
       "{'Test de Normalidad': [np.False_, np.False_],\n",
       " 'Datos Normales': False,\n",
       " 'p-valor Varianza': np.float64(0.8104207838865031),\n",
       " 'Varianzas Iguales': np.True_,\n",
       " 'Test Usado': 'Mann-Whitney U (prueba no paramétrica)',\n",
       " 'Estadístico': np.float64(109499288.0),\n",
       " 'p-valor': np.float64(0.41389638430638065),\n",
       " 'Conclusión': 'No se rechaza H0 (No hay diferencias significativas)'}"
      ]
     },
     "execution_count": 501,
     "metadata": {},
     "output_type": "execute_result"
    }
   ],
   "source": [
    "prueba_hipotesis(Grupo4, Grupo5)"
   ]
  },
  {
   "cell_type": "markdown",
   "metadata": {},
   "source": [
    "----------------------------------------------"
   ]
  },
  {
   "cell_type": "markdown",
   "metadata": {},
   "source": [
    "Aclaraciones:\n",
    "Mann-Whitney U y los T-tests solo funcionan con dos grupos.\n",
    "Asique Voy a usar una funcion sacada de chat gpt, que usa otras funciones para sacar estadisticas entre mas grupos, y ver si puedo comparar los 5 grupos juntos."
   ]
  },
  {
   "cell_type": "code",
   "execution_count": 502,
   "metadata": {},
   "outputs": [
    {
     "name": "stdout",
     "output_type": "stream",
     "text": [
      "Requirement already satisfied: scipy in /Library/Frameworks/Python.framework/Versions/3.12/lib/python3.12/site-packages (1.15.1)\n",
      "Requirement already satisfied: numpy<2.5,>=1.23.5 in /Library/Frameworks/Python.framework/Versions/3.12/lib/python3.12/site-packages (from scipy) (2.1.1)\n",
      "\n",
      "\u001b[1m[\u001b[0m\u001b[34;49mnotice\u001b[0m\u001b[1;39;49m]\u001b[0m\u001b[39;49m A new release of pip is available: \u001b[0m\u001b[31;49m24.0\u001b[0m\u001b[39;49m -> \u001b[0m\u001b[32;49m25.0.1\u001b[0m\n",
      "\u001b[1m[\u001b[0m\u001b[34;49mnotice\u001b[0m\u001b[1;39;49m]\u001b[0m\u001b[39;49m To update, run: \u001b[0m\u001b[32;49mpip3 install --upgrade pip\u001b[0m\n",
      "Note: you may need to restart the kernel to use updated packages.\n"
     ]
    }
   ],
   "source": [
    "# Install scipy if not already installed\n",
    "%pip install scipy"
   ]
  },
  {
   "cell_type": "code",
   "execution_count": 503,
   "metadata": {},
   "outputs": [],
   "source": [
    "import scipy.stats as stats"
   ]
  },
  {
   "cell_type": "code",
   "execution_count": 504,
   "metadata": {},
   "outputs": [],
   "source": [
    "def prueba_hipotesis(*args):\n",
    "    \"\"\"\n",
    "    Realiza una prueba de hipótesis para comparar múltiples grupos.\n",
    "    \"\"\"\n",
    "\n",
    "    if len(args) < 2:\n",
    "        raise ValueError(\"Se necesitan al menos dos grupos para la prueba.\")\n",
    "\n",
    "    # Comprobar normalidad en cada grupo\n",
    "    normalidad = []\n",
    "    for grupo in args:\n",
    "        if len(grupo) > 5000:\n",
    "            p_valor_norm = stats.kstest(grupo, 'norm', args=(np.mean(grupo), np.std(grupo))).pvalue\n",
    "        else:\n",
    "            p_valor_norm = stats.shapiro(grupo).pvalue  \n",
    "        normalidad.append(p_valor_norm > 0.05)\n",
    "\n",
    "    datos_normales = all(normalidad)\n",
    "\n",
    "    # Prueba de igualdad de varianzas (solo si los grupos tienen al menos 2 datos)\n",
    "    if all(len(grupo) > 1 for grupo in args):\n",
    "        if datos_normales:\n",
    "            p_valor_varianza = stats.bartlett(*args).pvalue\n",
    "        else:\n",
    "            p_valor_varianza = stats.levene(*args, center=\"median\").pvalue\n",
    "    else:\n",
    "        p_valor_varianza = 1\n",
    "\n",
    "    varianzas_iguales = p_valor_varianza > 0.05\n",
    "\n",
    "    # Prueba estadística\n",
    "    if datos_normales:\n",
    "        if varianzas_iguales:\n",
    "            t_stat, p_valor = stats.f_oneway(*args)\n",
    "            test_usado = \"ANOVA (varianzas iguales)\"\n",
    "        else:\n",
    "            t_stat, p_valor = stats.kruskal(*args)\n",
    "            test_usado = \"Kruskal-Wallis (datos normales, varianzas desiguales)\"\n",
    "    else:\n",
    "        t_stat, p_valor = stats.kruskal(*args)\n",
    "        test_usado = \"Kruskal-Wallis (prueba no paramétrica)\"\n",
    "\n",
    "    # Resultado\n",
    "    alfa = 0.05\n",
    "    resultado = {\n",
    "        \"Test de Normalidad\": normalidad,\n",
    "        \"Datos Normales\": datos_normales,\n",
    "        \"p-valor Varianza\": p_valor_varianza,\n",
    "        \"Varianzas Iguales\": varianzas_iguales,\n",
    "        \"Test Usado\": test_usado,\n",
    "        \"Estadístico\": t_stat,\n",
    "        \"p-valor\": p_valor,\n",
    "        \"Conclusión\": \"Rechazamos H0 (Diferencias significativas)\" if p_valor < alfa else \"No se rechaza H0 (No hay diferencias significativas)\"\n",
    "    }\n",
    "\n",
    "    # Mostrar resultados\n",
    "    print(\"\\n📊 **Resultados de la Prueba de Hipótesis** 📊\")\n",
    "    print(f\"✅ Test de Normalidad: {'Sí' if datos_normales else 'No'}\")\n",
    "    print(f\"   - Normalidad por grupo: {normalidad}\")\n",
    "    print(f\"✅ Test de Varianza: {'Iguales' if varianzas_iguales else 'Desiguales'} (p = {p_valor_varianza:.4f})\")\n",
    "    print(f\"✅ Test aplicado: {test_usado}\")\n",
    "    print(f\"📉 Estadístico: {t_stat:.4f}, p-valor: {p_valor:.4f}\")\n",
    "    print(f\"🔍 Conclusión: {resultado['Conclusión']}\\n\")\n",
    "\n",
    "    return resultado"
   ]
  },
  {
   "cell_type": "code",
   "execution_count": 506,
   "metadata": {},
   "outputs": [
    {
     "name": "stdout",
     "output_type": "stream",
     "text": [
      "\n",
      "📊 **Resultados de la Prueba de Hipótesis** 📊\n",
      "✅ Test de Normalidad: No\n",
      "   - Normalidad por grupo: [np.False_, np.False_, np.False_, np.False_, np.False_]\n",
      "✅ Test de Varianza: Desiguales (p = 0.0150)\n",
      "✅ Test aplicado: Kruskal-Wallis (prueba no paramétrica)\n",
      "📉 Estadístico: 17.5326, p-valor: 0.0015\n",
      "🔍 Conclusión: Rechazamos H0 (Diferencias significativas)\n",
      "\n"
     ]
    },
    {
     "data": {
      "text/plain": [
       "{'Test de Normalidad': [np.False_, np.False_, np.False_, np.False_, np.False_],\n",
       " 'Datos Normales': False,\n",
       " 'p-valor Varianza': np.float64(0.014969793534495703),\n",
       " 'Varianzas Iguales': np.False_,\n",
       " 'Test Usado': 'Kruskal-Wallis (prueba no paramétrica)',\n",
       " 'Estadístico': np.float64(17.532618623121756),\n",
       " 'p-valor': np.float64(0.0015225470219889367),\n",
       " 'Conclusión': 'Rechazamos H0 (Diferencias significativas)'}"
      ]
     },
     "execution_count": 506,
     "metadata": {},
     "output_type": "execute_result"
    }
   ],
   "source": [
    "#Aplico la función para comparar los 5 grupos\n",
    "prueba_hipotesis(Grupo1, Grupo2, Grupo3, Grupo4, Grupo5)"
   ]
  },
  {
   "cell_type": "markdown",
   "metadata": {},
   "source": [
    "**Conclusion**"
   ]
  },
  {
   "cell_type": "markdown",
   "metadata": {},
   "source": [
    "Rechazo Hipotesis. Hay Diferencias significativas entre el número de vuelos reservados según el nivel educativo de los clientes."
   ]
  }
 ],
 "metadata": {
  "kernelspec": {
   "display_name": "Python 3",
   "language": "python",
   "name": "python3"
  },
  "language_info": {
   "codemirror_mode": {
    "name": "ipython",
    "version": 3
   },
   "file_extension": ".py",
   "mimetype": "text/x-python",
   "name": "python",
   "nbconvert_exporter": "python",
   "pygments_lexer": "ipython3",
   "version": "3.12.2"
  }
 },
 "nbformat": 4,
 "nbformat_minor": 2
}
